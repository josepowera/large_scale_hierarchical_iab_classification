{
 "cells": [
  {
   "cell_type": "code",
   "execution_count": 1,
   "metadata": {},
   "outputs": [],
   "source": [
    "import pandas as pd\n",
    "import numpy as np\n",
    "import nltk\n",
    "from nltk.corpus import stopwords\n",
    "from nltk.stem import WordNetLemmatizer\n",
    "from nltk.tokenize import word_tokenize\n",
    "import re\n",
    "import string\n",
    "# model\n",
    "from sklearn import preprocessing\n",
    "from sklearn.feature_extraction.text import TfidfVectorizer\n",
    "from sklearn.feature_extraction.text import CountVectorizer\n",
    "from sklearn.model_selection import train_test_split\n",
    "from sklearn.svm import LinearSVC\n",
    "from sklearn.calibration import CalibratedClassifierCV\n",
    "\n",
    "import sklearn.metrics as metrics"
   ]
  },
  {
   "cell_type": "code",
   "execution_count": 3,
   "metadata": {},
   "outputs": [
    {
     "data": {
      "text/html": [
       "<div>\n",
       "<style scoped>\n",
       "    .dataframe tbody tr th:only-of-type {\n",
       "        vertical-align: middle;\n",
       "    }\n",
       "\n",
       "    .dataframe tbody tr th {\n",
       "        vertical-align: top;\n",
       "    }\n",
       "\n",
       "    .dataframe thead th {\n",
       "        text-align: right;\n",
       "    }\n",
       "</style>\n",
       "<table border=\"1\" class=\"dataframe\">\n",
       "  <thead>\n",
       "    <tr style=\"text-align: right;\">\n",
       "      <th></th>\n",
       "      <th>index</th>\n",
       "      <th>id</th>\n",
       "      <th>content</th>\n",
       "      <th>title</th>\n",
       "      <th>preprocessed_content</th>\n",
       "      <th>label</th>\n",
       "      <th>hierarchy</th>\n",
       "      <th>hierarchy_#tiers</th>\n",
       "      <th>tier1</th>\n",
       "      <th>tier2</th>\n",
       "      <th>tier3</th>\n",
       "      <th>tier4</th>\n",
       "    </tr>\n",
       "  </thead>\n",
       "  <tbody>\n",
       "    <tr>\n",
       "      <th>0</th>\n",
       "      <td>133</td>\n",
       "      <td>https://www.whowhatwear.com/5-looks-that-put-b...</td>\n",
       "      <td>After seeing burgundy boots on some of our fav...</td>\n",
       "      <td>5 Looks That Put Burgundy Boots On Our Must-Ha...</td>\n",
       "      <td>seeing burgundy boot favorite street style blo...</td>\n",
       "      <td>Womens\\ Casual\\ Wear</td>\n",
       "      <td>[{'Style &amp; Fashion': {\"Women's Fashion\": {\"Wom...</td>\n",
       "      <td>4</td>\n",
       "      <td>Style &amp; Fashion</td>\n",
       "      <td>Womens Fashion</td>\n",
       "      <td>Womens Clothing</td>\n",
       "      <td>Womens Casual Wear</td>\n",
       "    </tr>\n",
       "    <tr>\n",
       "      <th>1</th>\n",
       "      <td>189</td>\n",
       "      <td>https://www.wisebread.com/what-you-need-to-kno...</td>\n",
       "      <td>According to a September 29, 2009 Fidelity Inv...</td>\n",
       "      <td>How to Make the Most of Your 401K</td>\n",
       "      <td>according september fidelity investments study...</td>\n",
       "      <td>Personal\\ Investing</td>\n",
       "      <td>[{'Personal Finance': 'Personal Investing'}]</td>\n",
       "      <td>2</td>\n",
       "      <td>Personal Finance</td>\n",
       "      <td>Personal Investing</td>\n",
       "      <td>NaN</td>\n",
       "      <td>NaN</td>\n",
       "    </tr>\n",
       "    <tr>\n",
       "      <th>2</th>\n",
       "      <td>401</td>\n",
       "      <td>https://www.theturekclinic.com/blog/mindful-ea...</td>\n",
       "      <td>“Thou shouldst eat to live; not live to eat,” ...</td>\n",
       "      <td>Mindful Eating</td>\n",
       "      <td>thou shouldst eat live live eat said socrates ...</td>\n",
       "      <td>Mens\\ Health</td>\n",
       "      <td>[{'Healthy Living': \"Men's Health\"}]</td>\n",
       "      <td>2</td>\n",
       "      <td>Healthy Living</td>\n",
       "      <td>Mens Health</td>\n",
       "      <td>NaN</td>\n",
       "      <td>NaN</td>\n",
       "    </tr>\n",
       "    <tr>\n",
       "      <th>3</th>\n",
       "      <td>198</td>\n",
       "      <td>https://www.news-medical.net/news/20190611/Ear...</td>\n",
       "      <td>Researchers continue to dig for molecular clue...</td>\n",
       "      <td>Early life adversity and high levels of FKBP5 ...</td>\n",
       "      <td>researchers continue dig molecular clue better...</td>\n",
       "      <td>Hormonal\\ Disorders</td>\n",
       "      <td>[{'Medical Health': {'Diseases and Conditions'...</td>\n",
       "      <td>4</td>\n",
       "      <td>Medical Health</td>\n",
       "      <td>Diseases and Conditions</td>\n",
       "      <td>Endocrine and Metabolic Diseases</td>\n",
       "      <td>Hormonal Disorders</td>\n",
       "    </tr>\n",
       "    <tr>\n",
       "      <th>4</th>\n",
       "      <td>24</td>\n",
       "      <td>https://hobbylark.com/card-games/Top-Strongest...</td>\n",
       "      <td>As any duelist knows, the vast majority of Yu-...</td>\n",
       "      <td>Top 10 Strongest (Highest ATK) Monsters in Yu-...</td>\n",
       "      <td>duelist know vast majority yu gi oh match end ...</td>\n",
       "      <td>Card\\ Games</td>\n",
       "      <td>[{'Hobbies &amp; Interests': {'Games and Puzzles':...</td>\n",
       "      <td>3</td>\n",
       "      <td>Hobbies &amp; Interests</td>\n",
       "      <td>Games and Puzzles</td>\n",
       "      <td>Card Games</td>\n",
       "      <td>NaN</td>\n",
       "    </tr>\n",
       "  </tbody>\n",
       "</table>\n",
       "</div>"
      ],
      "text/plain": [
       "   index                                                 id  \\\n",
       "0    133  https://www.whowhatwear.com/5-looks-that-put-b...   \n",
       "1    189  https://www.wisebread.com/what-you-need-to-kno...   \n",
       "2    401  https://www.theturekclinic.com/blog/mindful-ea...   \n",
       "3    198  https://www.news-medical.net/news/20190611/Ear...   \n",
       "4     24  https://hobbylark.com/card-games/Top-Strongest...   \n",
       "\n",
       "                                             content  \\\n",
       "0  After seeing burgundy boots on some of our fav...   \n",
       "1  According to a September 29, 2009 Fidelity Inv...   \n",
       "2  “Thou shouldst eat to live; not live to eat,” ...   \n",
       "3  Researchers continue to dig for molecular clue...   \n",
       "4  As any duelist knows, the vast majority of Yu-...   \n",
       "\n",
       "                                               title  \\\n",
       "0  5 Looks That Put Burgundy Boots On Our Must-Ha...   \n",
       "1                  How to Make the Most of Your 401K   \n",
       "2                                     Mindful Eating   \n",
       "3  Early life adversity and high levels of FKBP5 ...   \n",
       "4  Top 10 Strongest (Highest ATK) Monsters in Yu-...   \n",
       "\n",
       "                                preprocessed_content                 label  \\\n",
       "0  seeing burgundy boot favorite street style blo...  Womens\\ Casual\\ Wear   \n",
       "1  according september fidelity investments study...   Personal\\ Investing   \n",
       "2  thou shouldst eat live live eat said socrates ...          Mens\\ Health   \n",
       "3  researchers continue dig molecular clue better...   Hormonal\\ Disorders   \n",
       "4  duelist know vast majority yu gi oh match end ...           Card\\ Games   \n",
       "\n",
       "                                           hierarchy  hierarchy_#tiers  \\\n",
       "0  [{'Style & Fashion': {\"Women's Fashion\": {\"Wom...                 4   \n",
       "1       [{'Personal Finance': 'Personal Investing'}]                 2   \n",
       "2               [{'Healthy Living': \"Men's Health\"}]                 2   \n",
       "3  [{'Medical Health': {'Diseases and Conditions'...                 4   \n",
       "4  [{'Hobbies & Interests': {'Games and Puzzles':...                 3   \n",
       "\n",
       "                 tier1                    tier2  \\\n",
       "0      Style & Fashion           Womens Fashion   \n",
       "1     Personal Finance       Personal Investing   \n",
       "2       Healthy Living              Mens Health   \n",
       "3       Medical Health  Diseases and Conditions   \n",
       "4  Hobbies & Interests        Games and Puzzles   \n",
       "\n",
       "                              tier3               tier4  \n",
       "0                   Womens Clothing  Womens Casual Wear  \n",
       "1                               NaN                 NaN  \n",
       "2                               NaN                 NaN  \n",
       "3  Endocrine and Metabolic Diseases  Hormonal Disorders  \n",
       "4                        Card Games                 NaN  "
      ]
     },
     "execution_count": 3,
     "metadata": {},
     "output_type": "execute_result"
    }
   ],
   "source": [
    "train_data = pd.read_csv('train_data3.csv')\n",
    "train_data.head()"
   ]
  },
  {
   "cell_type": "markdown",
   "metadata": {},
   "source": [
    "## Preparation and Pre-processing\n"
   ]
  },
  {
   "cell_type": "code",
   "execution_count": 4,
   "metadata": {},
   "outputs": [],
   "source": [
    "lemma = WordNetLemmatizer()\n",
    "def clean_text(text):\n",
    "    text = re.sub(r\"[^A-Za-z0-9^,!.\\/'+-=]\", \" \", text)\n",
    "    text = \"\".join([word.lower() for word in text if word not in string.punctuation])\n",
    "    tokens = re.split('\\W+', text)\n",
    "    text = \" \".join([lemma.lemmatize(word) for word in tokens if word not in set(stopwords.words(\"english\"))])\n",
    "    return text\n",
    "def cut_text(text):\n",
    "    tokens = re.split('\\W+', text)\n",
    "    if len(tokens) > 400:\n",
    "        tokens = tokens[:200]+tokens[-200:]\n",
    "    else:\n",
    "        tokens = tokens\n",
    "    text = \" \".join(tokens)\n",
    "    return (text)\n",
    "def combine_text(text1, text2, n):\n",
    "    text = \" \".join([text1]*n)\n",
    "    text = text + \" \" + text2\n",
    "    return text\n",
    "def concatlabel(tier1, tier2, tier3, tier4):\n",
    "    try:\n",
    "        new_label = tier1+'..'+tier2+'..'+tier3+'..'+tier4\n",
    "    except TypeError:\n",
    "        try:\n",
    "            new_label = tier1+'..'+tier2+'..'+tier3\n",
    "        except TypeError:\n",
    "            try:\n",
    "                new_label = tier1+'..'+tier2\n",
    "            except TypeError:\n",
    "                new_label = tier1\n",
    "    return new_label"
   ]
  },
  {
   "cell_type": "code",
   "execution_count": 5,
   "metadata": {},
   "outputs": [],
   "source": [
    "train_data['label_id'] = train_data['label'].factorize()[0]\n",
    "train_data['pub'] = train_data['id'].apply(lambda x:\"/\".join(x.split(\"/\")[:3]))\n",
    "train_data.dropna(subset = [\"preprocessed_content\",\"title\"], inplace=True)\n",
    "train_data['preprocessed_title'] = train_data['title'].apply(clean_text)\n",
    "train_data['preprocessed_content'] = train_data['preprocessed_content'].apply(cut_text)\n",
    "train_data['text'] = np.vectorize(combine_text)(train_data['preprocessed_title'], train_data['preprocessed_content'], 30)\n"
   ]
  },
  {
   "cell_type": "code",
   "execution_count": 6,
   "metadata": {},
   "outputs": [],
   "source": [
    "col_pick = ['label_id', 'hierarchy_#tiers', 'tier1', 'tier2', 'tier3', 'tier4', 'pub', 'text']\n",
    "train_data = train_data[col_pick]"
   ]
  },
  {
   "cell_type": "code",
   "execution_count": 1,
   "metadata": {},
   "outputs": [
    {
     "ename": "NameError",
     "evalue": "name 'train_data' is not defined",
     "output_type": "error",
     "traceback": [
      "\u001b[0;31m---------------------------------------------------------------------------\u001b[0m",
      "\u001b[0;31mNameError\u001b[0m                                 Traceback (most recent call last)",
      "\u001b[0;32m<ipython-input-1-ba34ba8bc0e3>\u001b[0m in \u001b[0;36m<module>\u001b[0;34m\u001b[0m\n\u001b[0;32m----> 1\u001b[0;31m \u001b[0mtrain_data\u001b[0m\u001b[0;34m[\u001b[0m\u001b[0;34m'index'\u001b[0m\u001b[0;34m]\u001b[0m \u001b[0;34m=\u001b[0m \u001b[0mrange\u001b[0m\u001b[0;34m(\u001b[0m\u001b[0;36m0\u001b[0m\u001b[0;34m,\u001b[0m \u001b[0mlen\u001b[0m\u001b[0;34m(\u001b[0m\u001b[0mtrain_data\u001b[0m\u001b[0;34m)\u001b[0m \u001b[0;34m)\u001b[0m\u001b[0;34m\u001b[0m\u001b[0;34m\u001b[0m\u001b[0m\n\u001b[0m\u001b[1;32m      2\u001b[0m \u001b[0mtrain_data\u001b[0m\u001b[0;34m[\u001b[0m\u001b[0;34m'label'\u001b[0m\u001b[0;34m]\u001b[0m\u001b[0;34m=\u001b[0m \u001b[0;34m\"\"\u001b[0m\u001b[0;34m\u001b[0m\u001b[0;34m\u001b[0m\u001b[0m\n\u001b[1;32m      3\u001b[0m \u001b[0;32mfor\u001b[0m \u001b[0mi\u001b[0m \u001b[0;32min\u001b[0m \u001b[0;34m(\u001b[0m\u001b[0mrange\u001b[0m\u001b[0;34m(\u001b[0m\u001b[0mlen\u001b[0m\u001b[0;34m(\u001b[0m\u001b[0mtrain_data\u001b[0m\u001b[0;34m)\u001b[0m\u001b[0;34m)\u001b[0m\u001b[0;34m)\u001b[0m\u001b[0;34m:\u001b[0m\u001b[0;34m\u001b[0m\u001b[0;34m\u001b[0m\u001b[0m\n\u001b[1;32m      4\u001b[0m     train_data['label'].iloc[i]=concatlabel(train_data['tier1'].iloc[i],train_data['tier2'].iloc[i],\n\u001b[1;32m      5\u001b[0m             train_data['tier3'].iloc[i],train_data['tier4'].iloc[i])\n",
      "\u001b[0;31mNameError\u001b[0m: name 'train_data' is not defined"
     ]
    }
   ],
   "source": [
    "train_data['index'] = range(0, len(train_data) )\n",
    "train_data['label']= \"\"\n",
    "for i in (range(len(train_data))):\n",
    "    train_data['label'].iloc[i]=concatlabel(train_data['tier1'].iloc[i],train_data['tier2'].iloc[i],\n",
    "            train_data['tier3'].iloc[i],train_data['tier4'].iloc[i])\n",
    "train_data.head()"
   ]
  },
  {
   "cell_type": "code",
   "execution_count": 8,
   "metadata": {},
   "outputs": [
    {
     "data": {
      "text/html": [
       "<div>\n",
       "<style scoped>\n",
       "    .dataframe tbody tr th:only-of-type {\n",
       "        vertical-align: middle;\n",
       "    }\n",
       "\n",
       "    .dataframe tbody tr th {\n",
       "        vertical-align: top;\n",
       "    }\n",
       "\n",
       "    .dataframe thead th {\n",
       "        text-align: right;\n",
       "    }\n",
       "</style>\n",
       "<table border=\"1\" class=\"dataframe\">\n",
       "  <thead>\n",
       "    <tr style=\"text-align: right;\">\n",
       "      <th></th>\n",
       "      <th>label_id</th>\n",
       "      <th>hierarchy_#tiers</th>\n",
       "      <th>tier1</th>\n",
       "      <th>tier2</th>\n",
       "      <th>tier3</th>\n",
       "      <th>tier4</th>\n",
       "      <th>pub</th>\n",
       "      <th>text</th>\n",
       "      <th>index</th>\n",
       "      <th>label</th>\n",
       "      <th>label1</th>\n",
       "    </tr>\n",
       "  </thead>\n",
       "  <tbody>\n",
       "    <tr>\n",
       "      <th>0</th>\n",
       "      <td>0</td>\n",
       "      <td>4</td>\n",
       "      <td>0</td>\n",
       "      <td>0</td>\n",
       "      <td>0</td>\n",
       "      <td>0</td>\n",
       "      <td>https://www.whowhatwear.com</td>\n",
       "      <td>5 look put burgundy boot musthave list 5 look ...</td>\n",
       "      <td>0</td>\n",
       "      <td>Style &amp; Fashion..Womens Fashion..Womens Clothi...</td>\n",
       "      <td>0..0..0..0</td>\n",
       "    </tr>\n",
       "    <tr>\n",
       "      <th>1</th>\n",
       "      <td>1</td>\n",
       "      <td>2</td>\n",
       "      <td>1</td>\n",
       "      <td>1</td>\n",
       "      <td>-1</td>\n",
       "      <td>-1</td>\n",
       "      <td>https://www.wisebread.com</td>\n",
       "      <td>make 401k make 401k make 401k make 401k make 4...</td>\n",
       "      <td>1</td>\n",
       "      <td>Personal Finance..Personal Investing</td>\n",
       "      <td>1..1</td>\n",
       "    </tr>\n",
       "    <tr>\n",
       "      <th>2</th>\n",
       "      <td>2</td>\n",
       "      <td>2</td>\n",
       "      <td>2</td>\n",
       "      <td>2</td>\n",
       "      <td>-1</td>\n",
       "      <td>-1</td>\n",
       "      <td>https://www.theturekclinic.com</td>\n",
       "      <td>mindful eating mindful eating mindful eating m...</td>\n",
       "      <td>2</td>\n",
       "      <td>Healthy Living..Mens Health</td>\n",
       "      <td>2..2</td>\n",
       "    </tr>\n",
       "    <tr>\n",
       "      <th>3</th>\n",
       "      <td>3</td>\n",
       "      <td>4</td>\n",
       "      <td>3</td>\n",
       "      <td>3</td>\n",
       "      <td>1</td>\n",
       "      <td>1</td>\n",
       "      <td>https://www.news-medical.net</td>\n",
       "      <td>early life adversity high level fkbp5 protein ...</td>\n",
       "      <td>3</td>\n",
       "      <td>Medical Health..Diseases and Conditions..Endoc...</td>\n",
       "      <td>3..3..1..1</td>\n",
       "    </tr>\n",
       "    <tr>\n",
       "      <th>4</th>\n",
       "      <td>4</td>\n",
       "      <td>3</td>\n",
       "      <td>4</td>\n",
       "      <td>4</td>\n",
       "      <td>2</td>\n",
       "      <td>-1</td>\n",
       "      <td>https://hobbylark.com</td>\n",
       "      <td>top 10 strongest highest atk monster yugioh to...</td>\n",
       "      <td>4</td>\n",
       "      <td>Hobbies &amp; Interests..Games and Puzzles..Card G...</td>\n",
       "      <td>4..4..2</td>\n",
       "    </tr>\n",
       "  </tbody>\n",
       "</table>\n",
       "</div>"
      ],
      "text/plain": [
       "   label_id  hierarchy_#tiers  tier1  tier2  tier3  tier4  \\\n",
       "0         0                 4      0      0      0      0   \n",
       "1         1                 2      1      1     -1     -1   \n",
       "2         2                 2      2      2     -1     -1   \n",
       "3         3                 4      3      3      1      1   \n",
       "4         4                 3      4      4      2     -1   \n",
       "\n",
       "                              pub  \\\n",
       "0     https://www.whowhatwear.com   \n",
       "1       https://www.wisebread.com   \n",
       "2  https://www.theturekclinic.com   \n",
       "3    https://www.news-medical.net   \n",
       "4           https://hobbylark.com   \n",
       "\n",
       "                                                text  index  \\\n",
       "0  5 look put burgundy boot musthave list 5 look ...      0   \n",
       "1  make 401k make 401k make 401k make 401k make 4...      1   \n",
       "2  mindful eating mindful eating mindful eating m...      2   \n",
       "3  early life adversity high level fkbp5 protein ...      3   \n",
       "4  top 10 strongest highest atk monster yugioh to...      4   \n",
       "\n",
       "                                               label      label1  \n",
       "0  Style & Fashion..Womens Fashion..Womens Clothi...  0..0..0..0  \n",
       "1               Personal Finance..Personal Investing        1..1  \n",
       "2                        Healthy Living..Mens Health        2..2  \n",
       "3  Medical Health..Diseases and Conditions..Endoc...  3..3..1..1  \n",
       "4  Hobbies & Interests..Games and Puzzles..Card G...     4..4..2  "
      ]
     },
     "execution_count": 8,
     "metadata": {},
     "output_type": "execute_result"
    }
   ],
   "source": [
    "train_data['tier1'], label_1 = pd.factorize(train_data['tier1'])\n",
    "train_data['tier2'], label_2 = pd.factorize(train_data['tier2'])\n",
    "train_data['tier3'], label_3 = pd.factorize(train_data['tier3'])\n",
    "train_data['tier4'], label_4 = pd.factorize(train_data['tier4'])\n",
    "train_data['label1'] = train_data[train_data.columns[2:6]].apply(\n",
    "    lambda x: '..'.join(x.astype(str)),\n",
    "    axis=1\n",
    ")\n",
    "train_data['label1'] = train_data['label1'].apply(lambda x: '..'.join([x for x in x.split('..') if x != '-1']))\n",
    "train_data.head()"
   ]
  },
  {
   "cell_type": "code",
   "execution_count": 9,
   "metadata": {},
   "outputs": [],
   "source": [
    "train_data1 = train_data.drop(['tier3', 'tier4'], axis = 1)\n",
    "train_data2 = train_data.drop(['tier4'], axis = 1)\n",
    "train_data1 = train_data1[train_data1['tier2']!= -1]\n",
    "train_data2 = train_data2[train_data2['tier3']!= -1]\n",
    "train_data3 = train_data[train_data['tier4']!= -1]\n",
    "train_data,train_data1,train_data2,train_data3 = train_data.reset_index(drop=True),train_data1.reset_index(drop=True),train_data2.reset_index(drop=True),train_data3.reset_index(drop=True)"
   ]
  },
  {
   "cell_type": "markdown",
   "metadata": {},
   "source": [
    "## Feature extraction"
   ]
  },
  {
   "cell_type": "code",
   "execution_count": 10,
   "metadata": {},
   "outputs": [
    {
     "data": {
      "text/plain": [
       "(8774, 55732)"
      ]
     },
     "execution_count": 10,
     "metadata": {},
     "output_type": "execute_result"
    }
   ],
   "source": [
    "tfidf = TfidfVectorizer(sublinear_tf=True, min_df=5, norm='l2', ngram_range=(1, 2), stop_words='english')\n",
    "tfidf_features = tfidf.fit_transform(train_data['text']).toarray()\n",
    "tfidf_features = pd.DataFrame(tfidf_features)\n",
    "tfidf_features.columns = tfidf.get_feature_names()\n",
    "tfidf_features.shape"
   ]
  },
  {
   "cell_type": "code",
   "execution_count": 12,
   "metadata": {},
   "outputs": [],
   "source": [
    "X_features = tfidf_features"
   ]
  },
  {
   "cell_type": "code",
   "execution_count": 14,
   "metadata": {},
   "outputs": [],
   "source": [
    "X_features1 = X_features[X_features.index.isin(list(train_data1['index']))]\n",
    "X_features2 = X_features[X_features.index.isin(list(train_data2['index']))]\n",
    "X_features3 = X_features[X_features.index.isin(list(train_data3['index']))]"
   ]
  },
  {
   "cell_type": "code",
   "execution_count": 15,
   "metadata": {},
   "outputs": [],
   "source": [
    "y = train_data[['label_id','hierarchy_#tiers','tier1','tier2','tier3','tier4','label1', 'label']]\n",
    "y1 = train_data1[['label_id','hierarchy_#tiers','tier1','tier2']]\n",
    "y2 = train_data2[['label_id','hierarchy_#tiers','tier1','tier2','tier3']]\n",
    "y3 = train_data3[['label_id','hierarchy_#tiers','tier1','tier2','tier3','tier4']]\n",
    "\n",
    "n_train = round(X_features.shape[0]*0.7)\n",
    "n_train1 = round(X_features1.shape[0]*0.7)\n",
    "n_train2 = round(X_features2.shape[0]*0.7)\n",
    "n_train3 = round(X_features3.shape[0]*0.7)\n",
    "\n",
    "X_train, X_test = X_features[:n_train], X_features[n_train:]\n",
    "X_train1, X_test1 = X_features1[:n_train1], X_features1[n_train1:]\n",
    "X_train2, X_test2 = X_features2[:n_train2], X_features2[n_train2:]\n",
    "X_train3, X_test3 = X_features3[:n_train3], X_features3[n_train3:]\n",
    "\n",
    "\n",
    "y_train, y_test = y[:n_train], y[n_train:]\n",
    "y_train1, y_test1 = y1[:n_train1], y1[n_train1:]\n",
    "y_train2, y_test2 = y2[:n_train2], y2[n_train2:]\n",
    "y_train3, y_test3 = y3[:n_train3], y3[n_train3:]"
   ]
  },
  {
   "cell_type": "code",
   "execution_count": 16,
   "metadata": {},
   "outputs": [],
   "source": [
    "content_train, content_test = tfidf_features[:n_train], tfidf_features[n_train:]"
   ]
  },
  {
   "cell_type": "code",
   "execution_count": 43,
   "metadata": {},
   "outputs": [
    {
     "data": {
      "text/plain": [
       "([], <a list of 0 Text xticklabel objects>)"
      ]
     },
     "execution_count": 43,
     "metadata": {},
     "output_type": "execute_result"
    },
    {
     "data": {
      "image/png": "[encoded data removed]",
      "text/plain": [
       "<Figure size 1440x720 with 1 Axes>"
      ]
     },
     "metadata": {
      "needs_background": "light"
     },
     "output_type": "display_data"
    }
   ],
   "source": [
    "plt.figure(figsize=(20,10))\n",
    "ax = sns.countplot(x=\"pub\", data=train_data)\n",
    "plt.xticks([])"
   ]
  },
  {
   "cell_type": "markdown",
   "metadata": {},
   "source": [
    "## Hierarchical Classification"
   ]
  },
  {
   "cell_type": "markdown",
   "metadata": {},
   "source": [
    "### Local classifier for each tier"
   ]
  },
  {
   "cell_type": "code",
   "execution_count": 17,
   "metadata": {},
   "outputs": [
    {
     "name": "stdout",
     "output_type": "stream",
     "text": [
      "Accuracy 0.9167933130699089\n",
      "Precision 0.9169555047555801\n",
      "Recall 0.9167933130699089\n",
      "F1-score 0.9160996930200291\n"
     ]
    }
   ],
   "source": [
    "#tier 1 prediction result\n",
    "model =LinearSVC()\n",
    "model = CalibratedClassifierCV(model) \n",
    "model.fit(X_train, y_train['tier1'])\n",
    "y_pred = model.predict(X_test)\n",
    "\n",
    "print(\"Accuracy\",metrics.accuracy_score(y_test['tier1'], y_pred))\n",
    "print(\"Precision\",metrics.precision_score(y_test['tier1'], y_pred,average='weighted'))\n",
    "print(\"Recall\",metrics.recall_score(y_test['tier1'], y_pred,average='weighted'))\n",
    "print(\"F1-score\",metrics.f1_score(y_test['tier1'], y_pred,average='weighted'))"
   ]
  },
  {
   "cell_type": "code",
   "execution_count": 18,
   "metadata": {},
   "outputs": [],
   "source": [
    "pred1 = pd.DataFrame(model.predict_proba(X_train1))\n",
    "pred2 = pd.DataFrame(model.predict_proba(X_train2))\n",
    "pred3 = pd.DataFrame(model.predict_proba(X_train3))\n",
    "\n",
    "feature1 = pd.concat([X_train1.reset_index(drop=True), pred1], axis=1)\n",
    "feature2 = pd.concat([X_train2.reset_index(drop=True), pred2], axis=1)\n",
    "feature3 = pd.concat([X_train3.reset_index(drop=True), pred3], axis=1)\n",
    "\n",
    "pred1_test = pd.DataFrame(model.predict_proba(X_test1))\n",
    "pred2_test = pd.DataFrame(model.predict_proba(X_test2))\n",
    "pred3_test = pd.DataFrame(model.predict_proba(X_test3))\n",
    "\n",
    "feature1_test = pd.concat([X_test1.reset_index(drop=True), pred1_test], axis=1)\n",
    "feature2_test = pd.concat([X_test2.reset_index(drop=True), pred2_test], axis=1)\n",
    "feature3_test = pd.concat([X_test3.reset_index(drop=True), pred3_test], axis=1)"
   ]
  },
  {
   "cell_type": "code",
   "execution_count": 19,
   "metadata": {},
   "outputs": [
    {
     "name": "stdout",
     "output_type": "stream",
     "text": [
      "Accuracy 0.8850118953211736\n",
      "Precision 0.8868359487214247\n",
      "Recall 0.8850118953211736\n",
      "F1-score 0.8838241225266444\n"
     ]
    }
   ],
   "source": [
    "#tier 2 prediction result, adding tier 1 output\n",
    "\n",
    "model1 =LinearSVC()\n",
    "model1 = CalibratedClassifierCV(model1) \n",
    "model1.fit(feature1, y_train1['tier2'])\n",
    "y_pred = model1.predict(feature1_test)\n",
    "\n",
    "print(\"Accuracy\",metrics.accuracy_score(y_test1['tier2'], y_pred))\n",
    "print(\"Precision\",metrics.precision_score(y_test1['tier2'], y_pred,average='weighted'))\n",
    "print(\"Recall\",metrics.recall_score(y_test1['tier2'], y_pred,average='weighted'))\n",
    "print(\"F1-score\",metrics.f1_score(y_test1['tier2'], y_pred,average='weighted'))"
   ]
  },
  {
   "cell_type": "code",
   "execution_count": 20,
   "metadata": {},
   "outputs": [],
   "source": [
    "pred22 = pd.DataFrame(model1.predict_proba(feature2))\n",
    "feature22 = pd.concat([X_train2.reset_index(drop=True), pred22], axis=1)\n",
    "pred22_test = pd.DataFrame(model1.predict_proba(feature2_test))\n",
    "feature22_test = pd.concat([X_test2.reset_index(drop=True), pred22_test], axis=1)"
   ]
  },
  {
   "cell_type": "code",
   "execution_count": 21,
   "metadata": {},
   "outputs": [],
   "source": [
    "pred33 = pd.DataFrame(model1.predict_proba(feature3))\n",
    "feature33 = pd.concat([X_train3.reset_index(drop=True), pred33], axis=1)\n",
    "pred33_test = pd.DataFrame(model1.predict_proba(feature3_test))\n",
    "feature33_test = pd.concat([X_test3.reset_index(drop=True), pred33_test], axis=1)"
   ]
  },
  {
   "cell_type": "code",
   "execution_count": 22,
   "metadata": {},
   "outputs": [
    {
     "name": "stdout",
     "output_type": "stream",
     "text": [
      "Accuracy 0.8821520068317678\n",
      "Precision 0.8885063120656559\n",
      "Recall 0.8821520068317678\n",
      "F1-score 0.8799267346571759\n"
     ]
    }
   ],
   "source": [
    "#tier 3 prediction result, adding tier 2 output\n",
    "\n",
    "model2 =LinearSVC()\n",
    "model2 = CalibratedClassifierCV(model2) \n",
    "model2.fit(feature22, y_train2['tier3'])\n",
    "y_pred = model2.predict(feature22_test)\n",
    "\n",
    "print(\"Accuracy\",metrics.accuracy_score(y_test2['tier3'], y_pred))\n",
    "print(\"Precision\",metrics.precision_score(y_test2['tier3'], y_pred,average='weighted'))\n",
    "print(\"Recall\",metrics.recall_score(y_test2['tier3'], y_pred,average='weighted'))\n",
    "print(\"F1-score\",metrics.f1_score(y_test2['tier3'], y_pred,average='weighted'))"
   ]
  },
  {
   "cell_type": "code",
   "execution_count": 23,
   "metadata": {},
   "outputs": [],
   "source": [
    "pred333 = pd.DataFrame(model2.predict_proba(feature33))\n",
    "feature333 = pd.concat([X_train3.reset_index(drop=True), pred333], axis=1)\n",
    "pred333_test = pd.DataFrame(model2.predict_proba(feature33_test))\n",
    "feature333_test = pd.concat([X_test3.reset_index(drop=True), pred333_test], axis=1)"
   ]
  },
  {
   "cell_type": "code",
   "execution_count": 24,
   "metadata": {},
   "outputs": [
    {
     "name": "stdout",
     "output_type": "stream",
     "text": [
      "Accuracy 0.8934010152284264\n",
      "Precision 0.9020543868016665\n",
      "Recall 0.8934010152284264\n",
      "F1-score 0.8943091882262068\n"
     ]
    }
   ],
   "source": [
    "#tier 4 prediction result, adding tier 3 output\n",
    "\n",
    "model3 =LinearSVC()\n",
    "model3 = CalibratedClassifierCV(model3) \n",
    "model3.fit(feature333, y_train3['tier4'])\n",
    "y_pred = model3.predict(feature333_test)\n",
    "print(\"Accuracy\",metrics.accuracy_score(y_test3['tier4'], y_pred))\n",
    "print(\"Precision\",metrics.precision_score(y_test3['tier4'], y_pred,average='weighted'))\n",
    "print(\"Recall\",metrics.recall_score(y_test3['tier4'], y_pred,average='weighted'))\n",
    "print(\"F1-score\",metrics.f1_score(y_test3['tier4'], y_pred,average='weighted'))"
   ]
  },
  {
   "cell_type": "code",
   "execution_count": 2,
   "metadata": {},
   "outputs": [
    {
     "ename": "NameError",
     "evalue": "name 'pred1' is not defined",
     "output_type": "error",
     "traceback": [
      "\u001b[0;31m---------------------------------------------------------------------------\u001b[0m",
      "\u001b[0;31mNameError\u001b[0m                                 Traceback (most recent call last)",
      "\u001b[0;32m<ipython-input-2-0d50f0e8fa5e>\u001b[0m in \u001b[0;36m<module>\u001b[0;34m\u001b[0m\n\u001b[1;32m      2\u001b[0m \u001b[0;32mimport\u001b[0m \u001b[0mmatplotlib\u001b[0m\u001b[0;34m.\u001b[0m\u001b[0mpyplot\u001b[0m \u001b[0;32mas\u001b[0m \u001b[0mplt\u001b[0m\u001b[0;34m\u001b[0m\u001b[0;34m\u001b[0m\u001b[0m\n\u001b[1;32m      3\u001b[0m \u001b[0mf\u001b[0m\u001b[0;34m,\u001b[0m \u001b[0maxes\u001b[0m \u001b[0;34m=\u001b[0m \u001b[0mplt\u001b[0m\u001b[0;34m.\u001b[0m\u001b[0msubplots\u001b[0m\u001b[0;34m(\u001b[0m\u001b[0;36m1\u001b[0m\u001b[0;34m,\u001b[0m \u001b[0;36m3\u001b[0m\u001b[0;34m,\u001b[0m \u001b[0mfigsize\u001b[0m\u001b[0;34m=\u001b[0m\u001b[0;34m(\u001b[0m\u001b[0;36m30\u001b[0m\u001b[0;34m,\u001b[0m \u001b[0;36m10\u001b[0m\u001b[0;34m)\u001b[0m\u001b[0;34m,\u001b[0m \u001b[0msharex\u001b[0m\u001b[0;34m=\u001b[0m\u001b[0;32mTrue\u001b[0m\u001b[0;34m)\u001b[0m\u001b[0;34m\u001b[0m\u001b[0;34m\u001b[0m\u001b[0m\n\u001b[0;32m----> 4\u001b[0;31m sns.distplot(pred1.max(axis=1), hist=True, kde=True, \n\u001b[0m\u001b[1;32m      5\u001b[0m              \u001b[0mbins\u001b[0m\u001b[0;34m=\u001b[0m\u001b[0;36m50\u001b[0m\u001b[0;34m,\u001b[0m \u001b[0mcolor\u001b[0m \u001b[0;34m=\u001b[0m \u001b[0;34m'darkblue'\u001b[0m\u001b[0;34m,\u001b[0m\u001b[0;34m\u001b[0m\u001b[0;34m\u001b[0m\u001b[0m\n\u001b[1;32m      6\u001b[0m              \u001b[0mhist_kws\u001b[0m\u001b[0;34m=\u001b[0m\u001b[0;34m{\u001b[0m\u001b[0;34m'edgecolor'\u001b[0m\u001b[0;34m:\u001b[0m\u001b[0;34m'black'\u001b[0m\u001b[0;34m}\u001b[0m\u001b[0;34m,\u001b[0m\u001b[0;34m\u001b[0m\u001b[0;34m\u001b[0m\u001b[0m\n",
      "\u001b[0;31mNameError\u001b[0m: name 'pred1' is not defined"
     ]
    },
    {
     "data": {
      "image/png": "[encoded data removed]",
      "text/plain": [
       "<Figure size 2160x720 with 3 Axes>"
      ]
     },
     "metadata": {
      "needs_background": "light"
     },
     "output_type": "display_data"
    }
   ],
   "source": [
    "import seaborn as sns\n",
    "import matplotlib.pyplot as plt\n",
    "f, axes = plt.subplots(1, 3, figsize=(30, 10), sharex=True)\n",
    "sns.distplot(pred1.max(axis=1), hist=True, kde=True, \n",
    "             bins=50, color = 'darkblue', \n",
    "             hist_kws={'edgecolor':'black'},\n",
    "             kde_kws={'linewidth': 2}, ax=axes[0]).set_title('tier1')\n",
    "sns.distplot(pred22.max(axis=1), hist=True, kde=True, \n",
    "             bins=50, color = 'darkblue', \n",
    "             hist_kws={'edgecolor':'black'},\n",
    "             kde_kws={'linewidth': 2},ax=axes[1]).set_title('tier2')\n",
    "sns.distplot(pred333.max(axis=1), hist=True, kde=True, \n",
    "             bins=50, color = 'darkblue', \n",
    "             hist_kws={'edgecolor':'black'},\n",
    "             kde_kws={'linewidth': 2},ax=axes[2]).set_title('tier3')"
   ]
  },
  {
   "cell_type": "markdown",
   "metadata": {},
   "source": [
    "### #tiers prediction"
   ]
  },
  {
   "cell_type": "code",
   "execution_count": 26,
   "metadata": {},
   "outputs": [
    {
     "name": "stdout",
     "output_type": "stream",
     "text": [
      "Accuracy 0.8936170212765957\n",
      "Precision 0.8927068601516446\n",
      "Recall 0.8936170212765957\n",
      "F1-score 0.8916547638007505\n"
     ]
    }
   ],
   "source": [
    "#predict number of tiers, using content related features\n",
    "model00 =LinearSVC()\n",
    "model00 = CalibratedClassifierCV(model00) \n",
    "model00.fit(content_train, y_train['hierarchy_#tiers'])\n",
    "y_pred = model00.predict(content_test)\n",
    "\n",
    "print(\"Accuracy\",metrics.accuracy_score(y_test['hierarchy_#tiers'], y_pred))\n",
    "print(\"Precision\",metrics.precision_score(y_test['hierarchy_#tiers'], y_pred,average='weighted'))\n",
    "print(\"Recall\",metrics.recall_score(y_test['hierarchy_#tiers'], y_pred,average='weighted'))\n",
    "print(\"F1-score\",metrics.f1_score(y_test['hierarchy_#tiers'], y_pred,average='weighted'))"
   ]
  },
  {
   "cell_type": "markdown",
   "metadata": {},
   "source": [
    "## Define hc function"
   ]
  },
  {
   "cell_type": "code",
   "execution_count": 3,
   "metadata": {},
   "outputs": [
    {
     "ename": "NameError",
     "evalue": "name 'X_test' is not defined",
     "output_type": "error",
     "traceback": [
      "\u001b[0;31m---------------------------------------------------------------------------\u001b[0m",
      "\u001b[0;31mNameError\u001b[0m                                 Traceback (most recent call last)",
      "\u001b[0;32m<ipython-input-3-72d410decd93>\u001b[0m in \u001b[0;36m<module>\u001b[0;34m\u001b[0m\n\u001b[1;32m     16\u001b[0m         \u001b[0mdf\u001b[0m\u001b[0;34m[\u001b[0m\u001b[0;34m'label_name'\u001b[0m\u001b[0;34m]\u001b[0m\u001b[0;34m.\u001b[0m\u001b[0miloc\u001b[0m\u001b[0;34m[\u001b[0m\u001b[0mi\u001b[0m\u001b[0;34m]\u001b[0m \u001b[0;34m=\u001b[0m \u001b[0;34m'..'\u001b[0m\u001b[0;34m.\u001b[0m\u001b[0mjoin\u001b[0m\u001b[0;34m(\u001b[0m\u001b[0mdf\u001b[0m\u001b[0;34m[\u001b[0m\u001b[0mdf\u001b[0m\u001b[0;34m.\u001b[0m\u001b[0mcolumns\u001b[0m\u001b[0;34m[\u001b[0m\u001b[0;36m5\u001b[0m\u001b[0;34m:\u001b[0m\u001b[0;36m5\u001b[0m\u001b[0;34m+\u001b[0m\u001b[0mdf\u001b[0m\u001b[0;34m[\u001b[0m\u001b[0;36m0\u001b[0m\u001b[0;34m]\u001b[0m\u001b[0;34m.\u001b[0m\u001b[0miloc\u001b[0m\u001b[0;34m[\u001b[0m\u001b[0mi\u001b[0m\u001b[0;34m]\u001b[0m\u001b[0;34m]\u001b[0m\u001b[0;34m]\u001b[0m\u001b[0;34m.\u001b[0m\u001b[0miloc\u001b[0m\u001b[0;34m[\u001b[0m\u001b[0mi\u001b[0m\u001b[0;34m]\u001b[0m\u001b[0;34m.\u001b[0m\u001b[0mastype\u001b[0m\u001b[0;34m(\u001b[0m\u001b[0mstr\u001b[0m\u001b[0;34m)\u001b[0m\u001b[0;34m)\u001b[0m\u001b[0;34m\u001b[0m\u001b[0;34m\u001b[0m\u001b[0m\n\u001b[1;32m     17\u001b[0m     \u001b[0;32mreturn\u001b[0m \u001b[0mdf\u001b[0m\u001b[0;34m[\u001b[0m\u001b[0;34m'label'\u001b[0m\u001b[0;34m]\u001b[0m\u001b[0;34m,\u001b[0m \u001b[0mdf\u001b[0m\u001b[0;34m[\u001b[0m\u001b[0;34m'label_name'\u001b[0m\u001b[0;34m]\u001b[0m\u001b[0;34m\u001b[0m\u001b[0;34m\u001b[0m\u001b[0m\n\u001b[0;32m---> 18\u001b[0;31m \u001b[0mpred\u001b[0m\u001b[0;34m,\u001b[0m \u001b[0mpred_name\u001b[0m \u001b[0;34m=\u001b[0m \u001b[0mhc\u001b[0m\u001b[0;34m(\u001b[0m\u001b[0mX_test\u001b[0m\u001b[0;34m)\u001b[0m\u001b[0;34m\u001b[0m\u001b[0;34m\u001b[0m\u001b[0m\n\u001b[0m",
      "\u001b[0;31mNameError\u001b[0m: name 'X_test' is not defined"
     ]
    }
   ],
   "source": [
    "def hc(test):\n",
    "    p1 = pd.DataFrame(model.predict_proba(test)).set_index(test.index)\n",
    "    f1 = pd.concat([test, p1], axis=1)\n",
    "    p2 = pd.DataFrame(model1.predict_proba(f1)).set_index(test.index)\n",
    "    f2 = pd.concat([test, p2], axis=1)\n",
    "    p3 = pd.DataFrame(model2.predict_proba(f2)).set_index(test.index)\n",
    "    f3 = pd.concat([test, p3], axis=1)\n",
    "    p4 = pd.DataFrame(model3.predict_proba(f3)).set_index(test.index)\n",
    "    df = pd.DataFrame(model00.predict(test)).set_index(test.index)\n",
    "    df['tier1'],df['tier2'],df['tier3'],df['tier4'] = model.predict(test),model1.predict(f1),model2.predict(f2),model3.predict(f3)\n",
    "    df['label1'],df['label2'],df['label3'],df['label4'] = label_1[df['tier1']], label_2[df['tier2']], label_3[df['tier3']], label_4[df['tier4']]\n",
    "    df['label']=''\n",
    "    df['label_name']=''\n",
    "    for i in range(0, df.shape[0]):\n",
    "        df['label'].iloc[i] = '..'.join(df[df.columns[1:1+df[0].iloc[i]]].iloc[i].astype(str))\n",
    "        df['label_name'].iloc[i] = '..'.join(df[df.columns[5:5+df[0].iloc[i]]].iloc[i].astype(str))\n",
    "    return df['label'], df['label_name']\n",
    "pred, pred_name = hc(X_test)\n"
   ]
  },
  {
   "cell_type": "code",
   "execution_count": 42,
   "metadata": {},
   "outputs": [
    {
     "name": "stdout",
     "output_type": "stream",
     "text": [
      "Accuracy 0.800531914893617\n"
     ]
    }
   ],
   "source": [
    "print(\"Accuracy\",metrics.accuracy_score(y_test['label1'], pred))"
   ]
  },
  {
   "cell_type": "code",
   "execution_count": 30,
   "metadata": {},
   "outputs": [
    {
     "data": {
      "text/html": [
       "<div>\n",
       "<style scoped>\n",
       "    .dataframe tbody tr th:only-of-type {\n",
       "        vertical-align: middle;\n",
       "    }\n",
       "\n",
       "    .dataframe tbody tr th {\n",
       "        vertical-align: top;\n",
       "    }\n",
       "\n",
       "    .dataframe thead th {\n",
       "        text-align: right;\n",
       "    }\n",
       "</style>\n",
       "<table border=\"1\" class=\"dataframe\">\n",
       "  <thead>\n",
       "    <tr style=\"text-align: right;\">\n",
       "      <th></th>\n",
       "      <th>label</th>\n",
       "      <th>label_name</th>\n",
       "    </tr>\n",
       "  </thead>\n",
       "  <tbody>\n",
       "    <tr>\n",
       "      <th>6146</th>\n",
       "      <td>Movies..Family and Children Movies</td>\n",
       "      <td>Movies..Comedy Movies</td>\n",
       "    </tr>\n",
       "    <tr>\n",
       "      <th>6148</th>\n",
       "      <td>Style &amp; Fashion..Womens Fashion..Womens Access...</td>\n",
       "      <td>Style &amp; Fashion..Womens Fashion..Womens Access...</td>\n",
       "    </tr>\n",
       "    <tr>\n",
       "      <th>6160</th>\n",
       "      <td>Real Estate..Hotel Properties</td>\n",
       "      <td>Events and Attractions..Amusement and Theme Parks</td>\n",
       "    </tr>\n",
       "    <tr>\n",
       "      <th>6161</th>\n",
       "      <td>Food &amp; Drink</td>\n",
       "      <td>Books and Literature..Art and Photography Books</td>\n",
       "    </tr>\n",
       "    <tr>\n",
       "      <th>6168</th>\n",
       "      <td>News and Politics..Disasters</td>\n",
       "      <td>Science..Geography</td>\n",
       "    </tr>\n",
       "    <tr>\n",
       "      <th>6181</th>\n",
       "      <td>Education..Educational Assessment..Standardize...</td>\n",
       "      <td>Education..Homework and Study</td>\n",
       "    </tr>\n",
       "    <tr>\n",
       "      <th>6192</th>\n",
       "      <td>Movies..Romance Movies</td>\n",
       "      <td>Movies..Family and Children Movies</td>\n",
       "    </tr>\n",
       "    <tr>\n",
       "      <th>6205</th>\n",
       "      <td>Healthy Living..Womens Health</td>\n",
       "      <td>Medical Health..Diseases and Conditions</td>\n",
       "    </tr>\n",
       "    <tr>\n",
       "      <th>6212</th>\n",
       "      <td>Pop Culture..Celebrity Deaths</td>\n",
       "      <td>Pop Culture..Celebrity Pregnancy</td>\n",
       "    </tr>\n",
       "    <tr>\n",
       "      <th>6217</th>\n",
       "      <td>Events and Attractions..Amusement and Theme Parks</td>\n",
       "      <td>Travel</td>\n",
       "    </tr>\n",
       "    <tr>\n",
       "      <th>6219</th>\n",
       "      <td>Pop Culture..Celebrity Deaths</td>\n",
       "      <td>Pop Culture..Celebrity Pregnancy</td>\n",
       "    </tr>\n",
       "    <tr>\n",
       "      <th>6221</th>\n",
       "      <td>Education..Homework and Study</td>\n",
       "      <td>Science..Geography</td>\n",
       "    </tr>\n",
       "    <tr>\n",
       "      <th>6225</th>\n",
       "      <td>Travel..Travel Locations..Africa Travel</td>\n",
       "      <td>Travel..Travel Locations</td>\n",
       "    </tr>\n",
       "    <tr>\n",
       "      <th>6226</th>\n",
       "      <td>Education..Educational Assessment..Standardize...</td>\n",
       "      <td>Business and Finance..Industries..Publishing I...</td>\n",
       "    </tr>\n",
       "    <tr>\n",
       "      <th>6230</th>\n",
       "      <td>Technology &amp; Computing..Computing..Computer Pe...</td>\n",
       "      <td>Business and Finance..Industries..Apparel Indu...</td>\n",
       "    </tr>\n",
       "    <tr>\n",
       "      <th>6234</th>\n",
       "      <td>Travel..Travel Type..Rail Travel</td>\n",
       "      <td>Travel..Travel Type..Family Travel</td>\n",
       "    </tr>\n",
       "    <tr>\n",
       "      <th>6241</th>\n",
       "      <td>Medical Health..Diseases and Conditions..Endoc...</td>\n",
       "      <td>Medical Health..Medical Tests..Endocrine and M...</td>\n",
       "    </tr>\n",
       "    <tr>\n",
       "      <th>6246</th>\n",
       "      <td>Technology &amp; Computing..Computing..Internet..W...</td>\n",
       "      <td>Music and Audio..Dance and Electronic Music</td>\n",
       "    </tr>\n",
       "    <tr>\n",
       "      <th>6247</th>\n",
       "      <td>Travel..Travel Type..Day Trips</td>\n",
       "      <td>Books and Literature..Art and Photography Books</td>\n",
       "    </tr>\n",
       "    <tr>\n",
       "      <th>6252</th>\n",
       "      <td>Education..Educational Assessment..Standardize...</td>\n",
       "      <td>Education..Primary Education</td>\n",
       "    </tr>\n",
       "    <tr>\n",
       "      <th>6254</th>\n",
       "      <td>Medical Health..Diseases and Conditions..Endoc...</td>\n",
       "      <td>Medical Health..Diseases and Conditions</td>\n",
       "    </tr>\n",
       "    <tr>\n",
       "      <th>6257</th>\n",
       "      <td>Healthy Living..Mens Health</td>\n",
       "      <td>Style &amp; Fashion..Womens Fashion</td>\n",
       "    </tr>\n",
       "    <tr>\n",
       "      <th>6265</th>\n",
       "      <td>Pets</td>\n",
       "      <td>Travel..Celebrity Families..Africa Travel</td>\n",
       "    </tr>\n",
       "    <tr>\n",
       "      <th>6272</th>\n",
       "      <td>Pop Culture..Celebrity Families</td>\n",
       "      <td>Pop Culture..Celebrity Families..Computer Peri...</td>\n",
       "    </tr>\n",
       "    <tr>\n",
       "      <th>6277</th>\n",
       "      <td>Pets</td>\n",
       "      <td>Travel..Travel Type</td>\n",
       "    </tr>\n",
       "    <tr>\n",
       "      <th>6282</th>\n",
       "      <td>Technology &amp; Computing..Computing..Computer Pe...</td>\n",
       "      <td>Personal Finance..Personal Investing..Mutual F...</td>\n",
       "    </tr>\n",
       "    <tr>\n",
       "      <th>6283</th>\n",
       "      <td>Automotive..Auto Safety</td>\n",
       "      <td>Automotive..Auto Safety..Classic Cars</td>\n",
       "    </tr>\n",
       "    <tr>\n",
       "      <th>6290</th>\n",
       "      <td>Automotive..Auto Safety</td>\n",
       "      <td>Automotive..Auto Safety..Apparel Industry</td>\n",
       "    </tr>\n",
       "    <tr>\n",
       "      <th>6300</th>\n",
       "      <td>Medical Health..Diseases and Conditions..Repro...</td>\n",
       "      <td>Medical Health..Diseases and Conditions..Endoc...</td>\n",
       "    </tr>\n",
       "    <tr>\n",
       "      <th>6301</th>\n",
       "      <td>Events and Attractions..Amusement and Theme Parks</td>\n",
       "      <td>Travel..Travel Type..Family Travel</td>\n",
       "    </tr>\n",
       "  </tbody>\n",
       "</table>\n",
       "</div>"
      ],
      "text/plain": [
       "                                                  label  \\\n",
       "6146                 Movies..Family and Children Movies   \n",
       "6148  Style & Fashion..Womens Fashion..Womens Access...   \n",
       "6160                      Real Estate..Hotel Properties   \n",
       "6161                                       Food & Drink   \n",
       "6168                       News and Politics..Disasters   \n",
       "6181  Education..Educational Assessment..Standardize...   \n",
       "6192                             Movies..Romance Movies   \n",
       "6205                      Healthy Living..Womens Health   \n",
       "6212                      Pop Culture..Celebrity Deaths   \n",
       "6217  Events and Attractions..Amusement and Theme Parks   \n",
       "6219                      Pop Culture..Celebrity Deaths   \n",
       "6221                      Education..Homework and Study   \n",
       "6225            Travel..Travel Locations..Africa Travel   \n",
       "6226  Education..Educational Assessment..Standardize...   \n",
       "6230  Technology & Computing..Computing..Computer Pe...   \n",
       "6234                   Travel..Travel Type..Rail Travel   \n",
       "6241  Medical Health..Diseases and Conditions..Endoc...   \n",
       "6246  Technology & Computing..Computing..Internet..W...   \n",
       "6247                     Travel..Travel Type..Day Trips   \n",
       "6252  Education..Educational Assessment..Standardize...   \n",
       "6254  Medical Health..Diseases and Conditions..Endoc...   \n",
       "6257                        Healthy Living..Mens Health   \n",
       "6265                                               Pets   \n",
       "6272                    Pop Culture..Celebrity Families   \n",
       "6277                                               Pets   \n",
       "6282  Technology & Computing..Computing..Computer Pe...   \n",
       "6283                            Automotive..Auto Safety   \n",
       "6290                            Automotive..Auto Safety   \n",
       "6300  Medical Health..Diseases and Conditions..Repro...   \n",
       "6301  Events and Attractions..Amusement and Theme Parks   \n",
       "\n",
       "                                             label_name  \n",
       "6146                              Movies..Comedy Movies  \n",
       "6148  Style & Fashion..Womens Fashion..Womens Access...  \n",
       "6160  Events and Attractions..Amusement and Theme Parks  \n",
       "6161    Books and Literature..Art and Photography Books  \n",
       "6168                                 Science..Geography  \n",
       "6181                      Education..Homework and Study  \n",
       "6192                 Movies..Family and Children Movies  \n",
       "6205            Medical Health..Diseases and Conditions  \n",
       "6212                   Pop Culture..Celebrity Pregnancy  \n",
       "6217                                             Travel  \n",
       "6219                   Pop Culture..Celebrity Pregnancy  \n",
       "6221                                 Science..Geography  \n",
       "6225                           Travel..Travel Locations  \n",
       "6226  Business and Finance..Industries..Publishing I...  \n",
       "6230  Business and Finance..Industries..Apparel Indu...  \n",
       "6234                 Travel..Travel Type..Family Travel  \n",
       "6241  Medical Health..Medical Tests..Endocrine and M...  \n",
       "6246        Music and Audio..Dance and Electronic Music  \n",
       "6247    Books and Literature..Art and Photography Books  \n",
       "6252                       Education..Primary Education  \n",
       "6254            Medical Health..Diseases and Conditions  \n",
       "6257                    Style & Fashion..Womens Fashion  \n",
       "6265          Travel..Celebrity Families..Africa Travel  \n",
       "6272  Pop Culture..Celebrity Families..Computer Peri...  \n",
       "6277                                Travel..Travel Type  \n",
       "6282  Personal Finance..Personal Investing..Mutual F...  \n",
       "6283              Automotive..Auto Safety..Classic Cars  \n",
       "6290          Automotive..Auto Safety..Apparel Industry  \n",
       "6300  Medical Health..Diseases and Conditions..Endoc...  \n",
       "6301                 Travel..Travel Type..Family Travel  "
      ]
     },
     "execution_count": 30,
     "metadata": {},
     "output_type": "execute_result"
    }
   ],
   "source": [
    "misclassified = pd.concat([pd.DataFrame(y_test['label'][y_test['label1'] != pred]), pd.DataFrame(pred_name[y_test['label1'] != pred])], axis = 1)\n",
    "misclassified.head(30)"
   ]
  },
  {
   "cell_type": "markdown",
   "metadata": {},
   "source": [
    "## Test new articles"
   ]
  },
  {
   "cell_type": "code",
   "execution_count": 36,
   "metadata": {},
   "outputs": [],
   "source": [
    "test_new = pd.DataFrame(columns = ['website' , 'title', 'content'])\n",
    "test_new = test_new.append({'website' : 'https://www.forbes.com/sites/jumio/2020/08/03/how-selfie-based-technology-can-create-trust-and-security-for-online-dating-platforms/#2eded4af4e0d' , \n",
    "                            'title' : 'How Selfie-Based Technology Can Create Trust And Security For Online Dating Platforms',\n",
    "                            'content':\n",
    "                           'When Facebook launched its dating platform in 2019 it faced criticism based on its somewhat controversial use of user data in the past. Amidst this murky background, one of the bigger areas that Facebook Dating, and other online dating sites, should be addressing seriously is how they can create an ecosystem of trust. By doing so, they will make their online dating communities safer. This is particularly important due to catfishing, which is rife amongst dating sites. Catfishing is a scam whereby someone creates a fictitious online identity, often using someone else’s pictures and false biographical information. While MTV made a popular prime-time TV show uncovering this kind of deception in a more light-hearted manner, it can actually become a far darker cause for concern. In the U.S., consumers reported losing $201 million to romance scams in 2019 — up nearly 40% since 2018. But this type of fraud can also have a significant impact on victims health and well-being. So how can online dating sites and apps make the environment a safer place so users feel comfortable putting their hearts — and personal information — on the line? Something old, something new… Trust has to be at the epicenter of any dating site, and this starts the second a new account is created online and that account is verified. Sadly, when dating sites say they verify users, they rely on self-attested information, such as your name, age, city and who you are interested in meeting. This is simply not verification. New users can provide virtually any information they want as there is no fact checking behind any of these online profiles. This is where online dating platforms need to step up and employ verification methods, and ideally, newer methods that are far more secure, deliver much higher levels of identity assurance and help create an environment of trust. The strongest way of doing this is through online identity verification when new accounts are created and face-based authentication for higher-risk activities. The look of love. It is absolutely vital for dating sites to verify information provided by a user. This means that customers will trust the person they are talking to online, safe in the knowledge that their account has been verified, and is not a bot. They will also know that the dating site actually knows the real-world identity of the user should a date take the wrong turn. This creates a whole ecosystem of trust and safety that runs from initially talking to a person online, right through to real-world interactions. Dating sites could even look to verify the actual picture of a customer, to minimize the risk of misleading users with false information about their physical features. Providers of innovative identity proofing and authentication are bringing about a step change for businesses, online dating sites included. Using cutting-edge AI and video-selfie technology, the real-world identity of a user setting up an online account can now reliably be proven. When opening an account, the user will be asked to take a picture of a government-issued ID (e.g., a passport or driver’s licence) using their smartphone or webcam — this creates a reliable trust anchor and checks the ID for fraud. Then, the user will be asked to take a corroborating selfie which includes a built-in liveness check to ensure the person is physically present (and not using a picture or pre-recorded video for their selfie). It’s at this step that a digital representation of the person’s face is created, a 3D face map that can be kept on file for downstream authentication events. This provides a significantly higher bar and helps ensure that the user is truly who they claim to be. If the selfie does not match the picture on the ID, the profile will be flagged as fraudulent. Dating sites could also use the selfie to prove that the user accessing the account is still the person who set it up in higher-risk examples. Let’s say a user wants to verify the real identity of the person they’re about to meet for a date. In this unique scenario, that person would be prompted to take another quick video-selfie, which would create a fresh 3D face map that could then be immediately compared to the original 3D face map created when the account was opened. If the face maps match, the user knows the person they’re about to meet for a date is the genuine article.  Of course, putting your heart on the line is never a risk-free proposition. But, by leveraging the power of face-based biometric verification and authentication solutions, online daters don’t need the additional worry of scammers taking advantage of them. Online dating sites and apps, including Facebook Dating, need to take a deeper interest in the trust and safety of their users if they want to cultivate safer ecosystems. Face-based biometrics and the online dating world is clearly a match made in heaven. '\n",
    "                           },ignore_index = True)  \n",
    "test_new = test_new.append({'website' : 'https://www.travelandleisure.com/food-drink/restaurants/oldest-restaurants-in-the-world' , \n",
    "                            'title' : 'The 10 Oldest Restaurants in the World Are Way Older Than You May Think',\n",
    "                            'content': \n",
    "                           'The oldest restaurant in the world has served both Mozart and Clint Eastwood. Every year there is some new food trend that seems to sweep the internet. Remember when cupcakes were all the rage? Rainbow grilled cheeses? How about the cronut? But some meals are bigger than trends. And most of those long-lasting dishes can be found in a few of the oldest restaurants in the world. In a time when restaurants seem to come and go with the seasons, there are a few standout stars that have somehow stood the test of time. And we are not talking a few decades — we’re talking a few centuries. NetCredit, a financial services provider, waded into the historical waters and created a list of the oldest restaurants in more than 115 countries around the globe. To reach its conclusion, it simply used the qualification that a restaurant is “still serving today,” meaning it could have changed hands, names, or gone through renovations since its opening day. It then looked through records and historical data to formalize its list of the 10 oldest restaurants in the world. Coming in at the number 10 spot is Gostilna Gastuž, a restaurant that has been serving food in Slovenia since 1467. According to NetCredit, it is long been famous for mushroom soup and buckwheat porridge. Honke Owariya in Japan landed at number nine on the list. It is been doling out its famous soba made with mushrooms, egg, shrimp tempura, nori, leeks, and daikon since 1465. The eighth-oldest restaurant on the list is Hotel Gasthof Löwen, located in Liechtenstein. It’s served happy patrons veal with vegetables since 1380. It’s closely followed by the seventh-oldest restaurant, The Sheep Heid Inn in Scotland, which has served steak and roasted mushrooms since 1360. In 1345, the sixth-oldest restaurant, La Couronne in France, opened its doors to offer duck, roasts, and escargot. And in 1198, the fifth-oldest restaurant, The Brazen Head in Ireland, opened to serve bangers and mash. In the fourth-oldest spot sits Ma Yu Ching’s Bucket Chicken House in China, which first served buckets of chicken in 1153. Just a few years earlier, in 1147, the third-oldest restaurant, The Old House in Wales, began feeding customers pies with chips and peas. And, in 1146, the second-oldest restaurant, Wurstkuchl in Germany, cooked its sausages and sauerkraut. While these places all certainly have a rich (and tasty) history, none quite match the length of St. Peter Stiftskulinarium in Austria, which opened way back in the year 803 and served tafelspitz (boiled beef with minced apple and horseradish). NetCredit put the restaurant’s age in perspective when it wrote that it served “both Wolfgang Amadeus Mozart and Clint Eastwood.” Looking to dine at the oldest restaurant in the United States? You can, by heading to Newport, Rhode Island, and making a reservation at The White Horse Tavern, which a pirate named William Mayes opened in 1673. Sure, it may not be as old as the others, but as someone who grew up just a few miles away from the restaurant, I can tell you it’s just as tasty. Check out the entire list of oldest restaurants, along with all the research that went into this unique project, here.'\n",
    "                           },ignore_index = True)\n",
    "test_new = test_new.append({'website' : 'https://www.prnewswire.com/news-releases/us-news-announces-the-best-car-deals-for-august-2020-301110528.html' , \n",
    "                            'title' : 'U.S. News Announces the Best Car Deals for August 2020',\n",
    "                            'content':\n",
    "                           'WASHINGTON, Aug. 12, 2020 /PRNewswire/ -- U.S. News & World Report, the global authority in rankings and consumer advice, today unveiled the Best Car Deals for August 2020. The list features 10 vehicles, including a hybrid minivan, two full-size trucks, a sports car and family-friendly SUVs from both luxury and mainstream brands. These models are all available with excellent financing, cash back or lease incentives. \"We are seeing generous cash back offers and interest-free financing on a number of top-ranked cars, trucks and SUVs this August,\" said Jim Sharifi, managing editor of U.S. News Best Cars. \"Many of these deals include 0% financing for five years or more, while others combine an ultra-low interest rate with a substantial cash rebate.\"Each month, U.S. News collects new and used car deals for Toyota, Nissan, Ford, Honda, Chevrolet, Hyundai, Kia, Dodge, Ram, Jeep, Mazda, Buick, GMC, Subaru, Volkswagen, Acura, Cadillac, Infiniti, Lincoln, Volvo, Porsche, Mercedes-Benz, Audi, BMW and Lexus vehicles. Deals listed are from manufacturers sites using representative ZIP codes. Deals may vary depending on location, the buyer credit score and other factors. Deals are valid through at least August 31, 2020, according to manufacturers sites. Since 2007, U.S. News Best Cars, the automotive channel of U.S. News & World Report, has published rankings of the majority of new vehicles sold in America. Each year, U.S. News also publishes the Best Cars awards, including Best Vehicle Brands, Best Cars for the Money and Best Cars for Families. U.S. News Best Cars supports car shoppers throughout the entire car buying journey, offering advice for researching cars, finding cars for sale near you and getting the best rate on car insurance. U.S. News Best Cars had more than 73 million visitors over the past year, with the majority actively shopping for a car. Eighty percent of active shoppers reported that the U.S. News Best Cars site influenced their car purchasing decision. '\n",
    "                           },ignore_index = True)  \n",
    "test_new = test_new.append({'website' : 'https://www.news-medical.net/news/20200812/Researchers-develop-new-strategies-to-treat-osteoporosis.aspx' , \n",
    "                            'title' : 'Researchers develop new strategies to treat osteoporosis',\n",
    "                            'content':\n",
    "                           'A research team from the National University of Singapore (NUS) has identified a new avenue to maintain bone health while reducing bone resorption. The work, led by Associate Professor Christoph Winkler from the Department of Biological Sciences at the NUS Faculty of Science, opens up new and potentially more effective osteoporosis treatments. Osteoporosis is the most common age-related bone disease worldwide. It is estimated that one in three women and one in five men aged over 50 suffer from osteoporotic bone fractures. In ageing populations, the incidence of hip fractures increases dramatically, resulting in a high risk of morbidity and mortality. As such, osteoporosis is an immediate and significant health concern in Singapore and worldwide. To develop new strategies to treat osteoporosis, the NUS team, which also comprised Dr Phan Quang Tien and Dr Tan Wen Hui from the NUS Department of Biological Sciences, collaborated with research groups from the Genome Institute Singapore and the University of Wuerzburg. They used genetic analysis to discover a connection between a small protein, chemokine CXCL9, and the important part it plays in maintaining healthy bones. They also identified two inhibitors as promising drug targets for osteoporosis. This pioneering work was published in the journal Proceedings of the National Academy of Sciences (PNAS) on 27 July 2020. The role of a small protein in osteoporosis. Osteoporosis is caused by excessive activity of bone resorbing cells, called osteoclasts, and reduced activity of bone-forming cells, called osteoblasts. In healthy individuals, a balanced activity of these two cell types allows constant bone turnover to maintain healthy and strong bones. However, with osteoporosis, disproportionate bone resorption leads to low bone mineral density and consequently weak and fracture-prone bones. The team from NUS showed that the small protein, chemokine CXCL9, plays a role in osteoporosis when it is released from osteoblasts located on the surface of the bone matrix. Under osteoporotic conditions, CXCL9 diffuses towards reservoirs that hold osteoclast precursors. These osteoclast precursors produce a receptor, CXCR3, on their cell surface. Upon activation by CXCL9, the osteoclast precursors are mobilised and migrate long distances in a highly directed fashion towards the bone matrix, where they start resorbing bone. Both CXCL9 and its receptor CXCR3 have long been known to modulate the migration of immune cells to inflammation sites, for example in psoriasis and rheumatoid arthritis. Their role in osteoporosis and recruitment of bone cells, however, is unknown. The small-molecule inhibitors AMG-487 and NBI-74330 were known to block CXCR3 activity but have had little success in earlier clinical tests for the treatment of psoriasis. The research team now showed that these inhibitors are highly effective in blocking osteoclast recruitment and protecting bone from osteoporotic effects. New avenues to osteoporosis therapy. Most current osteoporosis therapies include the use of bisphosphonates, which block osteoclast activity and thus prevent excessive bone resorption. However, prolonged treatment with these drugs eliminates the necessary bone turnover leading to increased fracture risk and other unwanted side effects. Therefore, there is an urgent need to develop new strategies that overcome the limitations of current treatments. \"Based on our studies, both AMG-487 and NBI-74330 lowered the number of formed osteoclasts by more than 50 per cent when administered at the efficient dosage. While these two inhibitors have been tested in preclinical and clinical trials, they have not been used as targets for osteoporosis. We propose that the two small-molecule antagonists can be used to modulate or adjust excessive osteoclast numbers in osteoporosis patients in a dose-dependent fashion.\"Christoph Winkler, Associate Professor, Department of Biological Sciences, National University of Singapore. He added, \"Our new strategy has major advantages as excessive bone resorption can be prevented in a targeted manner but normal bone turn-over will still continue. This offers potential to avoid increased fracture risks in osteoporosis patients and to maintain healthy bone for improved quality of life.\"'\n",
    "                           },ignore_index = True)  \n",
    "test_new = test_new.append({'website' : 'https://www.travelandleisure.com/travel-news/hawaii-coronavirus-cases-inter-island-travel-restrictions' , \n",
    "                            'title' : 'Hawaii Closes Beaches, Parks in Honolulu Amid Rising COVID-19 Cases',\n",
    "                            'content':\n",
    "                           'The order to quarantine when traveling between islands was also reinstated for travel to Kauai, Hawaii, Maui, and Kalawao. Hawaii Gov. David Ige reinstated a partial inter-island mandatory quarantine order on Tuesday as the state continued to see rising COVID-19 infections, mainly on the island of Oahu. The order to quarantine when traveling between islands — implemented on April 1 before being initially lifted on June 16 — was reinstated for travel to Kauai, Hawaii, Maui, and Kalawao. The new order, slated to last through Aug. 31, does not apply to travel to Oahu, where the state capital of Honolulu is located. “I have been working closely with all of our county mayors and we agree that reinstating part of the inter-island travel quarantine is necessary and the right thing to do at this time,” Ige said in a recent statement. “We must protect our neighbor island residents in light of the alarming increase in COVID-19 cases on Oahu.” However, in Honolulu, city parks were closed on Aug. 8 along with beaches and state parks and indoor attractions like bowling alleys and arcades. Gatherings were limited to no more than 10 people, according to the city. Masks are also required when out in public spaces when social distancing is not possible. The move comes as Hawaii recorded a record 231 new COVID-19 cases on Saturday, The Associated Press reported. On Monday, Hawaii reported 141 new cases, according to the Hawaii Department of Health, 138 of them on Oahu. In total, the state has reported more than 3,600 confirmed cases. “Hospitals throughout Oahu are transferring patients and opening up new specialized COVID units to handle the surge in patients that is expected over the next couple of weeks,” Hawaii’s Department of Health Director Bruce Anderson told the AP, adding the death toll was expected to rise. Hawaii plans to implement a pre-testing program that would allow out-of-state visitors to skip the state quarantine if they arrive with a negative COVID-19 test. The program was originally supposed to go into effect on Aug. 1, but was delayed until Sept. 1.'\n",
    "                           },ignore_index = True) \n",
    "test_new = test_new.append({'website' : 'https://www.forbes.com/sites/robisbitts2/2020/08/12/3-ways-to-hedge-your-stock-portfolio-in-todays-crazy-world/#744cfc012de1' , \n",
    "                            'title' : '3 Ways To Hedge Your Stock Portfolio In Today’s Crazy World',\n",
    "                            'content':\n",
    "                           'Some obvious...and not so obvious routes to dampen volatility. So there is that S&P 500 again, sitting near an all-time high. And, whether you are a “90%er” (90% of the way toward the assets you need to retire), or just starting out, many investors don’t like to take big risks. The problem is that you do not want to bail on your portfolio. The world always looks grim to some. It follows that the stock market always has a reason to go down. And, it always has a reason to keep moving higher. So, rather than play a guessing or timing game, I have spent much of my career analyzing and identifying ways to complement that main stock (or ETF or mutual fund) portfolio with some investment shock absorbers.  These hedging concepts all have one thing in common. They use Exchange-Traded Funds (ETFs), used alongside your main equity portfolio. The other important way to think of these is as a way to replace what bonds used to do for you. After all, bond yields are near record lows. That gives them at best a weak outlook. At worst, they could erode wealth in a way that will stun many investors. Yes, bonds can wreck retirement plans, too. Perhaps more than ever, today markets present ways to have your long-term investing cake and eat it too. Here are a few of the many ways in which you can try to protect your, uh, assets. Short the stock market (sort of). There are a group of “inverse” ETFs that essentially aim to deliver the opposite outcome of a broad stock market index (like the S&P 500, the Dow, the Nasdaq NDAQ -0.8%, etc.). That is, if you invest $100 in an inverse ETF and the stock market goes up by 5%, you might see that $100 drop to $95. However, if the market went down by 5%, your inverse ETF may rise to about $105. I am talking about “single” or “unlevered” inverse ETFs (that’s a mouthful). I DO NOT suggest considering levered ETFs, the kind that move more than 1:1 in the opposite direction of the market index you are hedging. Get tactical. The world has sped up, and so have the markets. I am not recommending you drop your existing approach and become a day-trader. However, I do think there is a whole lot of room between “long-term investing” and day-trading. I have always felt that being adaptive to changes in the investing climate is more important than almost anything else. It reminds me of summer camp, where we would play softball for an hour, then have that super-sweet Orange-ade drink to “hydrate” (though that term was not used in the 1970s). Then it was over to the basketball court, or the pool, or arts and crafts. It was camp all day, but the skill sets you would apply would change rapidly. I think investing is more like that today than at any point in my 34 years in this business. That is why I think that the expected time frame of each investment you make should be understood before you spend a dollar. To me, that means have a core portfolio of equities (stocks and/or ETFs), a disaster-hedge piece, and a tactical piece. The tactical piece has a specific objective that is essentially a way of hedging against major losses. It aims to produce returns in smaller bites, AND to avoid major loss through leaving capital out there to be ravaged by the market’s biggest downturns. Owning things for weeks or months, not years, and having a discipline to move with moving markets. It is a skill to be developed for sure. But let us face it: we are not going back to the old way markets worked. There are too many new, short-term oriented types of participants in the markets today for that to happen. I fought this for years, but not anymore. Bottom-line: be adaptive; embrace tactical investing as a part of your long-term plan. Hedge the U.S. Dollar DLTR -1.3% This is a new one to many investors. The Dollar has been so strong for so long versus world currencies, you could excuse investors for not even knowing that hedging the Dollar’s value was even a thing. But it is. And it is getting more important to understand. Today, the Dollar is beset by several potential issues that are rapidly coming to the surface. I have written to you often about the massive debt buildup in the U.S. The government, corporations and consumers have all leveraged themselves way too high. What will break that debt bubble? When the world stops letting it happen. When will this malfeasance be punished? Heck if I know. But I see gradual evidence that the Dollar golden run is starting to fade. To profit from this, you have several places to look. Commodity-related investments, other currencies and inflation-friendly investments are a good place to start. Why inflation-related items? Because a weak currency can prompt higher inflation, as the government attempt to pay down some of that debt with devalued currency. More on this if/as it develops. Final point: think of hedging as being way beyond just prevention of investment loss. Hedging can be an offensive move as well. And in many ways, it makes a long-term portfolio much more well-rounded than it would be otherwise.'\n",
    "                           },ignore_index = True) \n"
   ]
  },
  {
   "cell_type": "code",
   "execution_count": 37,
   "metadata": {},
   "outputs": [
    {
     "data": {
      "text/html": [
       "<div>\n",
       "<style scoped>\n",
       "    .dataframe tbody tr th:only-of-type {\n",
       "        vertical-align: middle;\n",
       "    }\n",
       "\n",
       "    .dataframe tbody tr th {\n",
       "        vertical-align: top;\n",
       "    }\n",
       "\n",
       "    .dataframe thead th {\n",
       "        text-align: right;\n",
       "    }\n",
       "</style>\n",
       "<table border=\"1\" class=\"dataframe\">\n",
       "  <thead>\n",
       "    <tr style=\"text-align: right;\">\n",
       "      <th></th>\n",
       "      <th>website</th>\n",
       "      <th>title</th>\n",
       "      <th>content</th>\n",
       "      <th>pub</th>\n",
       "      <th>preprocessed_title</th>\n",
       "      <th>preprocessed_content</th>\n",
       "      <th>text</th>\n",
       "    </tr>\n",
       "  </thead>\n",
       "  <tbody>\n",
       "    <tr>\n",
       "      <th>0</th>\n",
       "      <td>https://www.forbes.com/sites/jumio/2020/08/03/...</td>\n",
       "      <td>How Selfie-Based Technology Can Create Trust A...</td>\n",
       "      <td>When Facebook launched its dating platform in ...</td>\n",
       "      <td>https://www.forbes.com</td>\n",
       "      <td>selfiebased technology create trust security o...</td>\n",
       "      <td>When Facebook launched its dating platform in ...</td>\n",
       "      <td>selfiebased technology create trust security o...</td>\n",
       "    </tr>\n",
       "    <tr>\n",
       "      <th>1</th>\n",
       "      <td>https://www.travelandleisure.com/food-drink/re...</td>\n",
       "      <td>The 10 Oldest Restaurants in the World Are Way...</td>\n",
       "      <td>The oldest restaurant in the world has served ...</td>\n",
       "      <td>https://www.travelandleisure.com</td>\n",
       "      <td>10 oldest restaurant world way older may think</td>\n",
       "      <td>The oldest restaurant in the world has served ...</td>\n",
       "      <td>10 oldest restaurant world way older may think...</td>\n",
       "    </tr>\n",
       "    <tr>\n",
       "      <th>2</th>\n",
       "      <td>https://www.prnewswire.com/news-releases/us-ne...</td>\n",
       "      <td>U.S. News Announces the Best Car Deals for Aug...</td>\n",
       "      <td>WASHINGTON, Aug. 12, 2020 /PRNewswire/ -- U.S....</td>\n",
       "      <td>https://www.prnewswire.com</td>\n",
       "      <td>u news announces best car deal august 2020</td>\n",
       "      <td>WASHINGTON Aug 12 2020 PRNewswire U S News Wor...</td>\n",
       "      <td>u news announces best car deal august 2020 u n...</td>\n",
       "    </tr>\n",
       "    <tr>\n",
       "      <th>3</th>\n",
       "      <td>https://www.news-medical.net/news/20200812/Res...</td>\n",
       "      <td>Researchers develop new strategies to treat os...</td>\n",
       "      <td>A research team from the National University o...</td>\n",
       "      <td>https://www.news-medical.net</td>\n",
       "      <td>researcher develop new strategy treat osteopor...</td>\n",
       "      <td>A research team from the National University o...</td>\n",
       "      <td>researcher develop new strategy treat osteopor...</td>\n",
       "    </tr>\n",
       "    <tr>\n",
       "      <th>4</th>\n",
       "      <td>https://www.travelandleisure.com/travel-news/h...</td>\n",
       "      <td>Hawaii Closes Beaches, Parks in Honolulu Amid ...</td>\n",
       "      <td>The order to quarantine when traveling between...</td>\n",
       "      <td>https://www.travelandleisure.com</td>\n",
       "      <td>hawaii close beach park honolulu amid rising c...</td>\n",
       "      <td>The order to quarantine when traveling between...</td>\n",
       "      <td>hawaii close beach park honolulu amid rising c...</td>\n",
       "    </tr>\n",
       "    <tr>\n",
       "      <th>5</th>\n",
       "      <td>https://www.forbes.com/sites/robisbitts2/2020/...</td>\n",
       "      <td>3 Ways To Hedge Your Stock Portfolio In Today’...</td>\n",
       "      <td>Some obvious...and not so obvious routes to da...</td>\n",
       "      <td>https://www.forbes.com</td>\n",
       "      <td>3 way hedge stock portfolio today crazy world</td>\n",
       "      <td>Some obvious and not so obvious routes to damp...</td>\n",
       "      <td>3 way hedge stock portfolio today crazy world ...</td>\n",
       "    </tr>\n",
       "  </tbody>\n",
       "</table>\n",
       "</div>"
      ],
      "text/plain": [
       "                                             website  \\\n",
       "0  https://www.forbes.com/sites/jumio/2020/08/03/...   \n",
       "1  https://www.travelandleisure.com/food-drink/re...   \n",
       "2  https://www.prnewswire.com/news-releases/us-ne...   \n",
       "3  https://www.news-medical.net/news/20200812/Res...   \n",
       "4  https://www.travelandleisure.com/travel-news/h...   \n",
       "5  https://www.forbes.com/sites/robisbitts2/2020/...   \n",
       "\n",
       "                                               title  \\\n",
       "0  How Selfie-Based Technology Can Create Trust A...   \n",
       "1  The 10 Oldest Restaurants in the World Are Way...   \n",
       "2  U.S. News Announces the Best Car Deals for Aug...   \n",
       "3  Researchers develop new strategies to treat os...   \n",
       "4  Hawaii Closes Beaches, Parks in Honolulu Amid ...   \n",
       "5  3 Ways To Hedge Your Stock Portfolio In Today’...   \n",
       "\n",
       "                                             content  \\\n",
       "0  When Facebook launched its dating platform in ...   \n",
       "1  The oldest restaurant in the world has served ...   \n",
       "2  WASHINGTON, Aug. 12, 2020 /PRNewswire/ -- U.S....   \n",
       "3  A research team from the National University o...   \n",
       "4  The order to quarantine when traveling between...   \n",
       "5  Some obvious...and not so obvious routes to da...   \n",
       "\n",
       "                                pub  \\\n",
       "0            https://www.forbes.com   \n",
       "1  https://www.travelandleisure.com   \n",
       "2        https://www.prnewswire.com   \n",
       "3      https://www.news-medical.net   \n",
       "4  https://www.travelandleisure.com   \n",
       "5            https://www.forbes.com   \n",
       "\n",
       "                                  preprocessed_title  \\\n",
       "0  selfiebased technology create trust security o...   \n",
       "1     10 oldest restaurant world way older may think   \n",
       "2         u news announces best car deal august 2020   \n",
       "3  researcher develop new strategy treat osteopor...   \n",
       "4  hawaii close beach park honolulu amid rising c...   \n",
       "5      3 way hedge stock portfolio today crazy world   \n",
       "\n",
       "                                preprocessed_content  \\\n",
       "0  When Facebook launched its dating platform in ...   \n",
       "1  The oldest restaurant in the world has served ...   \n",
       "2  WASHINGTON Aug 12 2020 PRNewswire U S News Wor...   \n",
       "3  A research team from the National University o...   \n",
       "4  The order to quarantine when traveling between...   \n",
       "5  Some obvious and not so obvious routes to damp...   \n",
       "\n",
       "                                                text  \n",
       "0  selfiebased technology create trust security o...  \n",
       "1  10 oldest restaurant world way older may think...  \n",
       "2  u news announces best car deal august 2020 u n...  \n",
       "3  researcher develop new strategy treat osteopor...  \n",
       "4  hawaii close beach park honolulu amid rising c...  \n",
       "5  3 way hedge stock portfolio today crazy world ...  "
      ]
     },
     "execution_count": 37,
     "metadata": {},
     "output_type": "execute_result"
    }
   ],
   "source": [
    "test_new['pub'] = test_new['website'].apply(lambda x:\"/\".join(x.split(\"/\")[:3]))\n",
    "test_new['preprocessed_title'] = test_new['title'].apply(clean_text)\n",
    "test_new['preprocessed_content'] = test_new['content'].apply(clean_text)\n",
    "test_new['preprocessed_content'] = test_new['content'].apply(cut_text)\n",
    "test_new['text'] = np.vectorize(combine_text)(test_new['preprocessed_title'], test_new['preprocessed_content'],30)\n",
    "test_new"
   ]
  },
  {
   "cell_type": "code",
   "execution_count": 4,
   "metadata": {},
   "outputs": [
    {
     "ename": "NameError",
     "evalue": "name 'tfidf' is not defined",
     "output_type": "error",
     "traceback": [
      "\u001b[0;31m---------------------------------------------------------------------------\u001b[0m",
      "\u001b[0;31mNameError\u001b[0m                                 Traceback (most recent call last)",
      "\u001b[0;32m<ipython-input-4-a173aca374a9>\u001b[0m in \u001b[0;36m<module>\u001b[0;34m\u001b[0m\n\u001b[0;32m----> 1\u001b[0;31m \u001b[0mtest_tfidf\u001b[0m \u001b[0;34m=\u001b[0m \u001b[0mtfidf\u001b[0m\u001b[0;34m.\u001b[0m\u001b[0mtransform\u001b[0m\u001b[0;34m(\u001b[0m\u001b[0mtest_new\u001b[0m\u001b[0;34m[\u001b[0m\u001b[0;34m'text'\u001b[0m\u001b[0;34m]\u001b[0m\u001b[0;34m)\u001b[0m\u001b[0;34m.\u001b[0m\u001b[0mtoarray\u001b[0m\u001b[0;34m(\u001b[0m\u001b[0;34m)\u001b[0m\u001b[0;34m\u001b[0m\u001b[0;34m\u001b[0m\u001b[0m\n\u001b[0m\u001b[1;32m      2\u001b[0m \u001b[0mtest_tfidf\u001b[0m \u001b[0;34m=\u001b[0m \u001b[0mpd\u001b[0m\u001b[0;34m.\u001b[0m\u001b[0mDataFrame\u001b[0m\u001b[0;34m(\u001b[0m\u001b[0mtest_tfidf\u001b[0m\u001b[0;34m)\u001b[0m\u001b[0;34m\u001b[0m\u001b[0;34m\u001b[0m\u001b[0m\n\u001b[1;32m      3\u001b[0m \u001b[0mtest_tfidf\u001b[0m\u001b[0;34m.\u001b[0m\u001b[0mcolumns\u001b[0m \u001b[0;34m=\u001b[0m \u001b[0mtfidf\u001b[0m\u001b[0;34m.\u001b[0m\u001b[0mget_feature_names\u001b[0m\u001b[0;34m(\u001b[0m\u001b[0;34m)\u001b[0m\u001b[0;34m\u001b[0m\u001b[0;34m\u001b[0m\u001b[0m\n\u001b[1;32m      4\u001b[0m \u001b[0mtest_features\u001b[0m \u001b[0;34m=\u001b[0m \u001b[0mtest_tfidf\u001b[0m\u001b[0;34m\u001b[0m\u001b[0;34m\u001b[0m\u001b[0m\n",
      "\u001b[0;31mNameError\u001b[0m: name 'tfidf' is not defined"
     ]
    }
   ],
   "source": [
    "test_tfidf = tfidf.transform(test_new['text']).toarray()\n",
    "test_tfidf = pd.DataFrame(test_tfidf)\n",
    "test_tfidf.columns = tfidf.get_feature_names()\n",
    "test_features = test_tfidf"
   ]
  },
  {
   "cell_type": "code",
   "execution_count": 5,
   "metadata": {},
   "outputs": [
    {
     "ename": "NameError",
     "evalue": "name 'test_features' is not defined",
     "output_type": "error",
     "traceback": [
      "\u001b[0;31m---------------------------------------------------------------------------\u001b[0m",
      "\u001b[0;31mNameError\u001b[0m                                 Traceback (most recent call last)",
      "\u001b[0;32m<ipython-input-5-305f7fdd77c7>\u001b[0m in \u001b[0;36m<module>\u001b[0;34m\u001b[0m\n\u001b[0;32m----> 1\u001b[0;31m \u001b[0mhc\u001b[0m\u001b[0;34m(\u001b[0m\u001b[0mtest_features\u001b[0m\u001b[0;34m)\u001b[0m\u001b[0;34m[\u001b[0m\u001b[0;36m1\u001b[0m\u001b[0;34m]\u001b[0m\u001b[0;34m\u001b[0m\u001b[0;34m\u001b[0m\u001b[0m\n\u001b[0m",
      "\u001b[0;31mNameError\u001b[0m: name 'test_features' is not defined"
     ]
    }
   ],
   "source": [
    "hc(test_features)[1]"
   ]
  },
  {
   "cell_type": "markdown",
   "metadata": {},
   "source": [
    "### Potential Future Improvements & Next Move:\n",
    "- Publisher_id can be used as another feature after dealing with imbalanced sample problem\n",
    "- Apply to larger dataset (currently use 9192 samples, 0.7/0.3 training/test split)\n",
    "- Apply inconsistant check\n",
    "- Add probablity threshold to predict number of tiers\n",
    "- Integrate 4 level classification, check local and total loss using neural network"
   ]
  },
  {
   "cell_type": "code",
   "execution_count": null,
   "metadata": {},
   "outputs": [],
   "source": []
  }
 ],
 "metadata": {
  "kernelspec": {
   "display_name": "Python 3",
   "language": "python",
   "name": "python3"
  },
  "language_info": {
   "codemirror_mode": {
    "name": "ipython",
    "version": 3
   },
   "file_extension": ".py",
   "mimetype": "text/x-python",
   "name": "python",
   "nbconvert_exporter": "python",
   "pygments_lexer": "ipython3",
   "version": "3.8.5"
  }
 },
 "nbformat": 4,
 "nbformat_minor": 4
}
