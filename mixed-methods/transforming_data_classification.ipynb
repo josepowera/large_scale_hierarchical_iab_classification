{
 "cells": [
  {
   "cell_type": "code",
   "execution_count": 1,
   "metadata": {
    "colab": {
     "base_uri": "https://localhost:8080/",
     "height": 72
    },
    "colab_type": "code",
    "id": "amZkRqxsGtFI",
    "outputId": "4bda1cf3-7ec8-4b3e-a2e3-f6a64ed55f6a"
   },
   "outputs": [],
   "source": [
    "import psycopg2\n",
    "import pandas as pd\n",
    "import json\n",
    "import pandas.io.sql as sqlio\n",
    "from nltk.corpus import stopwords\n",
    "from nltk.stem import WordNetLemmatizer\n",
    "from nltk.tokenize import word_tokenize\n",
    "import re\n",
    "import string\n",
    "from sklearn.feature_extraction.text import TfidfVectorizer\n",
    "from sklearn.model_selection import train_test_split\n",
    "from sklearn.svm import LinearSVC\n",
    "import sklearn.metrics as metrics"
   ]
  },
  {
   "cell_type": "code",
   "execution_count": 2,
   "metadata": {
    "colab": {},
    "colab_type": "code",
    "id": "GSA8S20KGtFO"
   },
   "outputs": [],
   "source": [
    "def connect_to_db(database, hostname, port, userid, passwrd):\n",
    "    # connects to the database\n",
    "    conn_string = \"host=\"+hostname+\" port=\"+port+\" dbname=\"+database+\" user=\"+userid+\" password=\"+passwrd\n",
    "    conn=psycopg2.connect(conn_string)\n",
    "    conn.autocommit = True\n",
    "    cursor = conn.cursor()\n",
    "    return conn, cursor"
   ]
  },
  {
   "cell_type": "code",
   "execution_count": 3,
   "metadata": {
    "colab": {},
    "colab_type": "code",
    "id": "MgbB9bAcGtFS"
   },
   "outputs": [],
   "source": [
    "\n",
    "conn, cursor = connect_to_db(\"postgres\", \"classification-articles.cjgj2uy1bapa.us-east-1.rds.amazonaws.com\", \"5432\", \"classifyarticles\", \"hs2020\")"
   ]
  },
  {
   "cell_type": "code",
   "execution_count": 4,
   "metadata": {
    "colab": {},
    "colab_type": "code",
    "id": "9p-JypS1GtFV"
   },
   "outputs": [],
   "source": [
    "def get_all_tables(cursor):\n",
    "    cursor.execute(\"\"\"SELECT table_name FROM information_schema.tables\n",
    "       WHERE table_schema = 'public'\"\"\")\n",
    "    return cursor.fetchall()\n",
    "\n",
    "all_tables=get_all_tables(cursor)"
   ]
  },
  {
   "cell_type": "code",
   "execution_count": 5,
   "metadata": {
    "colab": {
     "base_uri": "https://localhost:8080/",
     "height": 35
    },
    "colab_type": "code",
    "id": "vhrPIaM-GtFZ",
    "outputId": "d82ea8c2-1447-4da5-e4ff-e2064b8709e3"
   },
   "outputs": [
    {
     "data": {
      "text/plain": [
       "569"
      ]
     },
     "execution_count": 5,
     "metadata": {},
     "output_type": "execute_result"
    }
   ],
   "source": [
    "len(all_tables)"
   ]
  },
  {
   "cell_type": "markdown",
   "metadata": {
    "colab_type": "text",
    "id": "PW8z8qZjGtFi"
   },
   "source": [
    "Removed test_table and name_table as they aren't relevant"
   ]
  },
  {
   "cell_type": "code",
   "execution_count": 6,
   "metadata": {
    "colab": {},
    "colab_type": "code",
    "id": "UiKSH2zmGtFn"
   },
   "outputs": [],
   "source": [
    "all_tables.remove(('name_table',))\n",
    "all_tables.remove(('test_table',))"
   ]
  },
  {
   "cell_type": "code",
   "execution_count": 7,
   "metadata": {
    "colab": {},
    "colab_type": "code",
    "id": "wZjEu2PDGtFx"
   },
   "outputs": [],
   "source": [
    "def find_table_name(lst, key):\n",
    "    for i, dic in enumerate(lst):\n",
    "        #print(i,dic)\n",
    "        if key in dic.keys():\n",
    "            return(list(dic.values()))\n",
    "            #return dic[key]\n",
    "    return -1"
   ]
  },
  {
   "cell_type": "code",
   "execution_count": 8,
   "metadata": {
    "colab": {},
    "colab_type": "code",
    "id": "SqRcCY3OGtF2"
   },
   "outputs": [],
   "source": [
    "with open(\"iab_taxonomy-v2.json\") as ifile:\n",
    "    taxonomy = json.load(ifile)"
   ]
  },
  {
   "cell_type": "code",
   "execution_count": 9,
   "metadata": {
    "colab": {},
    "colab_type": "code",
    "id": "hH3l0P7vGtGB"
   },
   "outputs": [],
   "source": [
    "def map_data(taxonomy, table_list):\n",
    "    map_dict = {}\n",
    "    for table_name in table_list:\n",
    "        \n",
    "        num = re.search(r\"[0-9][0-9_]*\", table_name[0])[0]\n",
    "        #print(table_name, re.search(r\"[0-9][0-9_]*\", table_name[0]))\n",
    "        val = num.replace(\"_\", \".\")\n",
    "        name = find_table_name(taxonomy, val)\n",
    "        tier_name = name\n",
    "        if type(tier_name)==str:\n",
    "            map_dict[table_name[0]]=tier_name\n",
    "        elif type(tier_name)==int:\n",
    "            continue\n",
    "        else:\n",
    "            while (type(tier_name) is dict):\n",
    "                key = list(tier_name.keys())[0]\n",
    "                tier_name = tier_name[key]\n",
    "            map_dict[table_name[0]]=tier_name\n",
    "    return map_dict\n",
    "\n",
    "map_dict = map_data(taxonomy, all_tables)"
   ]
  },
  {
   "cell_type": "code",
   "execution_count": 10,
   "metadata": {
    "colab": {
     "base_uri": "https://localhost:8080/",
     "height": 35
    },
    "colab_type": "code",
    "id": "3ephywoqIpQx",
    "outputId": "ef41d5e8-9c38-4d1b-89b8-4e462e418105"
   },
   "outputs": [
    {
     "data": {
      "text/plain": [
       "550"
      ]
     },
     "execution_count": 10,
     "metadata": {},
     "output_type": "execute_result"
    }
   ],
   "source": [
    "len(map_dict)"
   ]
  },
  {
   "cell_type": "code",
   "execution_count": 11,
   "metadata": {
    "colab": {},
    "colab_type": "code",
    "id": "3yY2NdvDGtGZ"
   },
   "outputs": [],
   "source": [
    "import numpy as np\n",
    "def get_table(table_name, conn,v):\n",
    "    sql = \"SELECT * FROM \"+table_name+\" ORDER BY RANDOM() LIMIT 100;\" \n",
    "    dat = sqlio.read_sql_query(sql, conn)\n",
    "    df=pd.DataFrame(dat)\n",
    "    #print(v)\n",
    "    df['hierarchy']=str(v)\n",
    "    #print(df)\n",
    "    return df"
   ]
  },
  {
   "cell_type": "code",
   "execution_count": 12,
   "metadata": {
    "colab": {
     "base_uri": "https://localhost:8080/",
     "height": 35
    },
    "colab_type": "code",
    "id": "SjP1ZLdwLzWT",
    "outputId": "a07419d5-794a-4fbd-a661-5e6da2597b98"
   },
   "outputs": [
    {
     "data": {
      "text/plain": [
       "550"
      ]
     },
     "execution_count": 12,
     "metadata": {},
     "output_type": "execute_result"
    }
   ],
   "source": [
    "len(map_dict.keys())"
   ]
  },
  {
   "cell_type": "code",
   "execution_count": 13,
   "metadata": {
    "colab": {
     "base_uri": "https://localhost:8080/",
     "height": 35
    },
    "colab_type": "code",
    "id": "bN610cM3YZBn",
    "outputId": "3eca1e13-33aa-4cc9-fdd8-12461d2bdad3"
   },
   "outputs": [],
   "source": [
    "import random\n"
   ]
  },
  {
   "cell_type": "code",
   "execution_count": 14,
   "metadata": {},
   "outputs": [],
   "source": [
    "data = pd.DataFrame()\n",
    "for k,v in list(sorted(map_dict.items()))[:194]:#list(map_dict.items())[:50]:\n",
    "    data=pd.concat([data,get_table(k, conn,v)])"
   ]
  },
  {
   "cell_type": "code",
   "execution_count": 15,
   "metadata": {
    "colab": {},
    "colab_type": "code",
    "id": "Qbkn7mgsGtGj"
   },
   "outputs": [],
   "source": [
    "train_data = pd.DataFrame()\n",
    "train_data=data.copy()"
   ]
  },
  {
   "cell_type": "code",
   "execution_count": 16,
   "metadata": {},
   "outputs": [
    {
     "data": {
      "text/plain": [
       "Index(['index', 'id', 'content', 'title', 'keywords', 'description',\n",
       "       'preprocessed_content', 'label', 'hierarchy', 'level_0'],\n",
       "      dtype='object')"
      ]
     },
     "execution_count": 16,
     "metadata": {},
     "output_type": "execute_result"
    }
   ],
   "source": [
    "train_data.columns"
   ]
  },
  {
   "cell_type": "markdown",
   "metadata": {},
   "source": [
    "Column 'hierarchy_#tiers' specifies the number of tiers for that particular article ID"
   ]
  },
  {
   "cell_type": "code",
   "execution_count": 17,
   "metadata": {},
   "outputs": [],
   "source": [
    "train_data['hierarchy_#tiers']=[len(i) for i in train_data['hierarchy'].str.split(\":\")]"
   ]
  },
  {
   "cell_type": "markdown",
   "metadata": {},
   "source": [
    "Adding 4 columns one each for each tier (we have 4 tiers in our database)"
   ]
  },
  {
   "cell_type": "code",
   "execution_count": 18,
   "metadata": {},
   "outputs": [],
   "source": [
    "train_data['tier1']=np.NaN\n",
    "train_data['tier2']=np.NaN\n",
    "train_data['tier3']=np.NaN\n",
    "train_data['tier4']=np.NaN\n",
    "train_data=train_data.reset_index(drop=True)"
   ]
  },
  {
   "cell_type": "markdown",
   "metadata": {},
   "source": [
    "Storing each tier name in its appropriate column"
   ]
  },
  {
   "cell_type": "code",
   "execution_count": 19,
   "metadata": {},
   "outputs": [],
   "source": [
    "#from tqdm.notebook import tqdm\n",
    "for k in (range(len(train_data))):\n",
    "    i=str(train_data.loc[k,'hierarchy'])\n",
    "    i=i.split(\":\")       \n",
    "    l=[re.sub(r'[{}\\[\\]]',\"\",x) for x in i]\n",
    "    for j in range(1,len(l)+1):\n",
    "        a=\"tier\"+str(j)\n",
    "        train_data.loc[k,a]=l[j-1]"
   ]
  },
  {
   "cell_type": "markdown",
   "metadata": {},
   "source": [
    "Dropping unnecessary columns"
   ]
  },
  {
   "cell_type": "code",
   "execution_count": null,
   "metadata": {},
   "outputs": [],
   "source": [
    "train_data=train_data.drop(['level_0'],axis=1)"
   ]
  },
  {
   "cell_type": "code",
   "execution_count": 26,
   "metadata": {},
   "outputs": [],
   "source": [
    "train_data=train_data.drop(['keywords','description'],axis=1)"
   ]
  },
  {
   "cell_type": "code",
   "execution_count": 28,
   "metadata": {},
   "outputs": [
    {
     "data": {
      "text/plain": [
       "Index(['index', 'id', 'content', 'title', 'preprocessed_content', 'label',\n",
       "       'hierarchy', 'hierarchy_#tiers', 'tier1', 'tier2', 'tier3', 'tier4'],\n",
       "      dtype='object')"
      ]
     },
     "execution_count": 28,
     "metadata": {},
     "output_type": "execute_result"
    }
   ],
   "source": [
    "train_data.columns"
   ]
  },
  {
   "cell_type": "code",
   "execution_count": 27,
   "metadata": {},
   "outputs": [
    {
     "data": {
      "text/html": [
       "<div>\n",
       "<style scoped>\n",
       "    .dataframe tbody tr th:only-of-type {\n",
       "        vertical-align: middle;\n",
       "    }\n",
       "\n",
       "    .dataframe tbody tr th {\n",
       "        vertical-align: top;\n",
       "    }\n",
       "\n",
       "    .dataframe thead th {\n",
       "        text-align: right;\n",
       "    }\n",
       "</style>\n",
       "<table border=\"1\" class=\"dataframe\">\n",
       "  <thead>\n",
       "    <tr style=\"text-align: right;\">\n",
       "      <th></th>\n",
       "      <th>index</th>\n",
       "      <th>id</th>\n",
       "      <th>content</th>\n",
       "      <th>title</th>\n",
       "      <th>preprocessed_content</th>\n",
       "      <th>label</th>\n",
       "      <th>hierarchy</th>\n",
       "      <th>hierarchy_#tiers</th>\n",
       "      <th>tier1</th>\n",
       "      <th>tier2</th>\n",
       "      <th>tier3</th>\n",
       "      <th>tier4</th>\n",
       "    </tr>\n",
       "  </thead>\n",
       "  <tbody>\n",
       "    <tr>\n",
       "      <th>0</th>\n",
       "      <td>369</td>\n",
       "      <td>https://www.prnewswire.com/news-releases/dodge...</td>\n",
       "      <td>AUBURN HILLS, Mich., Feb. 12, 2020 /PRNewswire...</td>\n",
       "      <td>Dodge Brand Launches New 'House of Power' Vide...</td>\n",
       "      <td>auburn hills mich feb prnewswire dodge launchi...</td>\n",
       "      <td>Automotive</td>\n",
       "      <td>['Automotive']</td>\n",
       "      <td>1</td>\n",
       "      <td>'Automotive'</td>\n",
       "      <td>NaN</td>\n",
       "      <td>NaN</td>\n",
       "      <td>NaN</td>\n",
       "    </tr>\n",
       "    <tr>\n",
       "      <th>1</th>\n",
       "      <td>288</td>\n",
       "      <td>https://www.prnewswire.com/news-releases/autos...</td>\n",
       "      <td>WEST MIDDLESEX, Pa., Feb. 14, 2020 /PRNewswire...</td>\n",
       "      <td>Autosoft Introduces Next-Gen All-in-One Techno...</td>\n",
       "      <td>west middlesex pa feb prnewswire autosoft prov...</td>\n",
       "      <td>Automotive</td>\n",
       "      <td>['Automotive']</td>\n",
       "      <td>1</td>\n",
       "      <td>'Automotive'</td>\n",
       "      <td>NaN</td>\n",
       "      <td>NaN</td>\n",
       "      <td>NaN</td>\n",
       "    </tr>\n",
       "    <tr>\n",
       "      <th>2</th>\n",
       "      <td>545</td>\n",
       "      <td>https://www.prnewswire.com/news-releases/kia-w...</td>\n",
       "      <td>CHICAGO, Feb. 6, 2020 /PRNewswire/ -- Today, a...</td>\n",
       "      <td>Kia Wins Two 2019 Motorweek Drivers' Choice Aw...</td>\n",
       "      <td>chicago feb prnewswire today chicago auto show...</td>\n",
       "      <td>Automotive</td>\n",
       "      <td>['Automotive']</td>\n",
       "      <td>1</td>\n",
       "      <td>'Automotive'</td>\n",
       "      <td>NaN</td>\n",
       "      <td>NaN</td>\n",
       "      <td>NaN</td>\n",
       "    </tr>\n",
       "    <tr>\n",
       "      <th>3</th>\n",
       "      <td>397</td>\n",
       "      <td>https://www.prnewswire.com/news-releases/scani...</td>\n",
       "      <td>SÖDERTÄLJE, Sweden, Feb. 12, 2020 /PRNewswire/...</td>\n",
       "      <td>Scania Deploys Battery Electric Trucks in Norway</td>\n",
       "      <td>dert lje sweden feb prnewswire norwegian whole...</td>\n",
       "      <td>Automotive</td>\n",
       "      <td>['Automotive']</td>\n",
       "      <td>1</td>\n",
       "      <td>'Automotive'</td>\n",
       "      <td>NaN</td>\n",
       "      <td>NaN</td>\n",
       "      <td>NaN</td>\n",
       "    </tr>\n",
       "    <tr>\n",
       "      <th>4</th>\n",
       "      <td>89</td>\n",
       "      <td>https://www.prnewswire.com/news-releases/rollp...</td>\n",
       "      <td>NEW YORK, Feb. 21, 2020 /PRNewswire/ -- Ride-o...</td>\n",
       "      <td>Rollplay Debuts Worldwide Exclusive MINI Coope...</td>\n",
       "      <td>new york feb prnewswire ride toy innovator rol...</td>\n",
       "      <td>Automotive</td>\n",
       "      <td>['Automotive']</td>\n",
       "      <td>1</td>\n",
       "      <td>'Automotive'</td>\n",
       "      <td>NaN</td>\n",
       "      <td>NaN</td>\n",
       "      <td>NaN</td>\n",
       "    </tr>\n",
       "  </tbody>\n",
       "</table>\n",
       "</div>"
      ],
      "text/plain": [
       "  index                                                 id  \\\n",
       "0   369  https://www.prnewswire.com/news-releases/dodge...   \n",
       "1   288  https://www.prnewswire.com/news-releases/autos...   \n",
       "2   545  https://www.prnewswire.com/news-releases/kia-w...   \n",
       "3   397  https://www.prnewswire.com/news-releases/scani...   \n",
       "4    89  https://www.prnewswire.com/news-releases/rollp...   \n",
       "\n",
       "                                             content  \\\n",
       "0  AUBURN HILLS, Mich., Feb. 12, 2020 /PRNewswire...   \n",
       "1  WEST MIDDLESEX, Pa., Feb. 14, 2020 /PRNewswire...   \n",
       "2  CHICAGO, Feb. 6, 2020 /PRNewswire/ -- Today, a...   \n",
       "3  SÖDERTÄLJE, Sweden, Feb. 12, 2020 /PRNewswire/...   \n",
       "4  NEW YORK, Feb. 21, 2020 /PRNewswire/ -- Ride-o...   \n",
       "\n",
       "                                               title  \\\n",
       "0  Dodge Brand Launches New 'House of Power' Vide...   \n",
       "1  Autosoft Introduces Next-Gen All-in-One Techno...   \n",
       "2  Kia Wins Two 2019 Motorweek Drivers' Choice Aw...   \n",
       "3   Scania Deploys Battery Electric Trucks in Norway   \n",
       "4  Rollplay Debuts Worldwide Exclusive MINI Coope...   \n",
       "\n",
       "                                preprocessed_content       label  \\\n",
       "0  auburn hills mich feb prnewswire dodge launchi...  Automotive   \n",
       "1  west middlesex pa feb prnewswire autosoft prov...  Automotive   \n",
       "2  chicago feb prnewswire today chicago auto show...  Automotive   \n",
       "3  dert lje sweden feb prnewswire norwegian whole...  Automotive   \n",
       "4  new york feb prnewswire ride toy innovator rol...  Automotive   \n",
       "\n",
       "        hierarchy  hierarchy_#tiers         tier1 tier2 tier3 tier4  \n",
       "0  ['Automotive']                 1  'Automotive'   NaN   NaN   NaN  \n",
       "1  ['Automotive']                 1  'Automotive'   NaN   NaN   NaN  \n",
       "2  ['Automotive']                 1  'Automotive'   NaN   NaN   NaN  \n",
       "3  ['Automotive']                 1  'Automotive'   NaN   NaN   NaN  \n",
       "4  ['Automotive']                 1  'Automotive'   NaN   NaN   NaN  "
      ]
     },
     "execution_count": 27,
     "metadata": {},
     "output_type": "execute_result"
    }
   ],
   "source": [
    "train_data.head()"
   ]
  },
  {
   "cell_type": "code",
   "execution_count": 29,
   "metadata": {},
   "outputs": [
    {
     "data": {
      "text/html": [
       "<div>\n",
       "<style scoped>\n",
       "    .dataframe tbody tr th:only-of-type {\n",
       "        vertical-align: middle;\n",
       "    }\n",
       "\n",
       "    .dataframe tbody tr th {\n",
       "        vertical-align: top;\n",
       "    }\n",
       "\n",
       "    .dataframe thead th {\n",
       "        text-align: right;\n",
       "    }\n",
       "</style>\n",
       "<table border=\"1\" class=\"dataframe\">\n",
       "  <thead>\n",
       "    <tr style=\"text-align: right;\">\n",
       "      <th></th>\n",
       "      <th>index</th>\n",
       "      <th>id</th>\n",
       "      <th>content</th>\n",
       "      <th>title</th>\n",
       "      <th>preprocessed_content</th>\n",
       "      <th>label</th>\n",
       "      <th>hierarchy</th>\n",
       "      <th>hierarchy_#tiers</th>\n",
       "      <th>tier1</th>\n",
       "      <th>tier2</th>\n",
       "      <th>tier3</th>\n",
       "      <th>tier4</th>\n",
       "    </tr>\n",
       "  </thead>\n",
       "  <tbody>\n",
       "    <tr>\n",
       "      <th>14624</th>\n",
       "      <td>83</td>\n",
       "      <td>https://www.tmz.com/2019/03/02/jeremy-meeks-ch...</td>\n",
       "      <td>Jeremy Meeks has gone from the big house to th...</td>\n",
       "      <td>&amp;#039;Hot Felon&amp;#039;...</td>\n",
       "      <td>jeremy meeks gone big house dog house believe ...</td>\n",
       "      <td>Celebrity\\ Homes</td>\n",
       "      <td>[{'Pop Culture': 'Celebrity Homes'}]</td>\n",
       "      <td>2</td>\n",
       "      <td>'Pop Culture'</td>\n",
       "      <td>'Celebrity Homes'</td>\n",
       "      <td>NaN</td>\n",
       "      <td>NaN</td>\n",
       "    </tr>\n",
       "    <tr>\n",
       "      <th>16809</th>\n",
       "      <td>69</td>\n",
       "      <td>https://www.motor1.com/news/376084/chevy-silve...</td>\n",
       "      <td>This week Chevy introduced an off-road-ready S...</td>\n",
       "      <td>Off-Road-Ready Chevy Silverado Could Preview H...</td>\n",
       "      <td>week chevy introduced road ready silverado bui...</td>\n",
       "      <td>Off\\-Road\\ Vehicles</td>\n",
       "      <td>[{'Automotive': {'Auto Body Styles': 'Off-Road...</td>\n",
       "      <td>3</td>\n",
       "      <td>'Automotive'</td>\n",
       "      <td>'Auto Body Styles'</td>\n",
       "      <td>'Off-Road Vehicles'</td>\n",
       "      <td>NaN</td>\n",
       "    </tr>\n",
       "    <tr>\n",
       "      <th>8404</th>\n",
       "      <td>51</td>\n",
       "      <td>https://www.pluggedin.com/movie-reviews/commut...</td>\n",
       "      <td>The daily commute tends to be fairly predictab...</td>\n",
       "      <td>The Commuter</td>\n",
       "      <td>daily commute tends fairly predictable traveli...</td>\n",
       "      <td>Crime\\ and\\ Mystery\\ Movies</td>\n",
       "      <td>[{'Movies': 'Crime and Mystery Movies'}]</td>\n",
       "      <td>2</td>\n",
       "      <td>'Movies'</td>\n",
       "      <td>'Crime and Mystery Movies'</td>\n",
       "      <td>NaN</td>\n",
       "      <td>NaN</td>\n",
       "    </tr>\n",
       "    <tr>\n",
       "      <th>15366</th>\n",
       "      <td>93</td>\n",
       "      <td>http://insideevs.com/vision-zero-zf-electric-f...</td>\n",
       "      <td>It takes a lot of work to build the future. In...</td>\n",
       "      <td>ZF’s Vision Zero Vehicle Aims For Zero Acciden...</td>\n",
       "      <td>take lot work build future automotive industry...</td>\n",
       "      <td>Driverless\\ Cars</td>\n",
       "      <td>[{'Automotive': {'Auto Type': 'Driverless Cars...</td>\n",
       "      <td>3</td>\n",
       "      <td>'Automotive'</td>\n",
       "      <td>'Auto Type'</td>\n",
       "      <td>'Driverless Cars'</td>\n",
       "      <td>NaN</td>\n",
       "    </tr>\n",
       "    <tr>\n",
       "      <th>16164</th>\n",
       "      <td>227</td>\n",
       "      <td>https://www.motor1.com/news/381333/audi-e-tron...</td>\n",
       "      <td>We first spied a hotter version of the Audi E-...</td>\n",
       "      <td>Audi E-Tron S Possibly Spied Testing At The Nu...</td>\n",
       "      <td>first spied hotter version audi e tron may spy...</td>\n",
       "      <td>SUV</td>\n",
       "      <td>[{'Automotive': {'Auto Body Styles': 'SUV'}}]</td>\n",
       "      <td>3</td>\n",
       "      <td>'Automotive'</td>\n",
       "      <td>'Auto Body Styles'</td>\n",
       "      <td>'SUV'</td>\n",
       "      <td>NaN</td>\n",
       "    </tr>\n",
       "  </tbody>\n",
       "</table>\n",
       "</div>"
      ],
      "text/plain": [
       "      index                                                 id  \\\n",
       "14624    83  https://www.tmz.com/2019/03/02/jeremy-meeks-ch...   \n",
       "16809    69  https://www.motor1.com/news/376084/chevy-silve...   \n",
       "8404     51  https://www.pluggedin.com/movie-reviews/commut...   \n",
       "15366    93  http://insideevs.com/vision-zero-zf-electric-f...   \n",
       "16164   227  https://www.motor1.com/news/381333/audi-e-tron...   \n",
       "\n",
       "                                                 content  \\\n",
       "14624  Jeremy Meeks has gone from the big house to th...   \n",
       "16809  This week Chevy introduced an off-road-ready S...   \n",
       "8404   The daily commute tends to be fairly predictab...   \n",
       "15366  It takes a lot of work to build the future. In...   \n",
       "16164  We first spied a hotter version of the Audi E-...   \n",
       "\n",
       "                                                   title  \\\n",
       "14624                           &#039;Hot Felon&#039;...   \n",
       "16809  Off-Road-Ready Chevy Silverado Could Preview H...   \n",
       "8404                                        The Commuter   \n",
       "15366  ZF’s Vision Zero Vehicle Aims For Zero Acciden...   \n",
       "16164  Audi E-Tron S Possibly Spied Testing At The Nu...   \n",
       "\n",
       "                                    preprocessed_content  \\\n",
       "14624  jeremy meeks gone big house dog house believe ...   \n",
       "16809  week chevy introduced road ready silverado bui...   \n",
       "8404   daily commute tends fairly predictable traveli...   \n",
       "15366  take lot work build future automotive industry...   \n",
       "16164  first spied hotter version audi e tron may spy...   \n",
       "\n",
       "                             label  \\\n",
       "14624             Celebrity\\ Homes   \n",
       "16809          Off\\-Road\\ Vehicles   \n",
       "8404   Crime\\ and\\ Mystery\\ Movies   \n",
       "15366             Driverless\\ Cars   \n",
       "16164                          SUV   \n",
       "\n",
       "                                               hierarchy  hierarchy_#tiers  \\\n",
       "14624               [{'Pop Culture': 'Celebrity Homes'}]                 2   \n",
       "16809  [{'Automotive': {'Auto Body Styles': 'Off-Road...                 3   \n",
       "8404            [{'Movies': 'Crime and Mystery Movies'}]                 2   \n",
       "15366  [{'Automotive': {'Auto Type': 'Driverless Cars...                 3   \n",
       "16164      [{'Automotive': {'Auto Body Styles': 'SUV'}}]                 3   \n",
       "\n",
       "               tier1                        tier2                 tier3 tier4  \n",
       "14624  'Pop Culture'            'Celebrity Homes'                   NaN   NaN  \n",
       "16809   'Automotive'           'Auto Body Styles'   'Off-Road Vehicles'   NaN  \n",
       "8404        'Movies'   'Crime and Mystery Movies'                   NaN   NaN  \n",
       "15366   'Automotive'                  'Auto Type'     'Driverless Cars'   NaN  \n",
       "16164   'Automotive'           'Auto Body Styles'                 'SUV'   NaN  "
      ]
     },
     "execution_count": 29,
     "metadata": {},
     "output_type": "execute_result"
    }
   ],
   "source": [
    "train_data.sample(5)"
   ]
  },
  {
   "cell_type": "code",
   "execution_count": null,
   "metadata": {},
   "outputs": [],
   "source": []
  }
 ],
 "metadata": {
  "accelerator": "GPU",
  "colab": {
   "collapsed_sections": [],
   "name": "Testing_One_Level_1.ipynb",
   "provenance": []
  },
  "kernelspec": {
   "display_name": "Python 3",
   "language": "python",
   "name": "python3"
  },
  "language_info": {
   "codemirror_mode": {
    "name": "ipython",
    "version": 3
   },
   "file_extension": ".py",
   "mimetype": "text/x-python",
   "name": "python",
   "nbconvert_exporter": "python",
   "pygments_lexer": "ipython3",
   "version": "3.8.5"
  }
 },
 "nbformat": 4,
 "nbformat_minor": 1
}
